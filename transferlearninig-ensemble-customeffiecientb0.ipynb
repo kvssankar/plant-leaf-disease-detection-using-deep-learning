{
 "cells": [
  {
   "cell_type": "markdown",
   "id": "6a03bbce",
   "metadata": {
    "papermill": {
     "duration": 0.042363,
     "end_time": "2022-04-28T17:11:54.476467",
     "exception": false,
     "start_time": "2022-04-28T17:11:54.434104",
     "status": "completed"
    },
    "tags": []
   },
   "source": [
    "## Import The Dataset"
   ]
  },
  {
   "cell_type": "markdown",
   "id": "2f740227",
   "metadata": {
    "papermill": {
     "duration": 0.040556,
     "end_time": "2022-04-28T17:11:54.560721",
     "exception": false,
     "start_time": "2022-04-28T17:11:54.520165",
     "status": "completed"
    },
    "tags": []
   },
   "source": [
    "## Data Preprocessing"
   ]
  },
  {
   "cell_type": "code",
   "execution_count": 1,
   "id": "55c72284",
   "metadata": {
    "execution": {
     "iopub.execute_input": "2022-04-28T17:11:54.660548Z",
     "iopub.status.busy": "2022-04-28T17:11:54.659477Z",
     "iopub.status.idle": "2022-04-28T17:12:11.455034Z",
     "shell.execute_reply": "2022-04-28T17:12:11.455887Z",
     "shell.execute_reply.started": "2022-04-28T17:02:54.953443Z"
    },
    "papermill": {
     "duration": 16.85538,
     "end_time": "2022-04-28T17:12:11.456408",
     "exception": false,
     "start_time": "2022-04-28T17:11:54.601028",
     "status": "completed"
    },
    "tags": []
   },
   "outputs": [
    {
     "name": "stdout",
     "output_type": "stream",
     "text": [
      "Collecting timm\r\n",
      "  Downloading timm-0.5.4-py3-none-any.whl (431 kB)\r\n",
      "     |████████████████████████████████| 431 kB 537 kB/s            \r\n",
      "\u001b[?25hRequirement already satisfied: torch>=1.4 in /opt/conda/lib/python3.7/site-packages (from timm) (1.9.1)\r\n",
      "Requirement already satisfied: torchvision in /opt/conda/lib/python3.7/site-packages (from timm) (0.10.1)\r\n",
      "Requirement already satisfied: typing-extensions in /opt/conda/lib/python3.7/site-packages (from torch>=1.4->timm) (4.1.1)\r\n",
      "Requirement already satisfied: numpy in /opt/conda/lib/python3.7/site-packages (from torchvision->timm) (1.20.3)\r\n",
      "Requirement already satisfied: pillow>=5.3.0 in /opt/conda/lib/python3.7/site-packages (from torchvision->timm) (8.2.0)\r\n",
      "Installing collected packages: timm\r\n",
      "Successfully installed timm-0.5.4\r\n",
      "\u001b[33mWARNING: Running pip as the 'root' user can result in broken permissions and conflicting behaviour with the system package manager. It is recommended to use a virtual environment instead: https://pip.pypa.io/warnings/venv\u001b[0m\r\n"
     ]
    }
   ],
   "source": [
    "import numpy as np\n",
    "import time\n",
    "import copy\n",
    "import os\n",
    "import torch\n",
    "import torch.optim as optim\n",
    "import torch.nn as nn\n",
    "import torchvision\n",
    "import matplotlib.pyplot as plt\n",
    "from torch.optim import lr_scheduler\n",
    "from torchvision import datasets, models, transforms\n",
    "!pip install timm\n",
    "import timm"
   ]
  },
  {
   "cell_type": "code",
   "execution_count": 2,
   "id": "327aad11",
   "metadata": {
    "execution": {
     "iopub.execute_input": "2022-04-28T17:12:11.626929Z",
     "iopub.status.busy": "2022-04-28T17:12:11.625831Z",
     "iopub.status.idle": "2022-04-28T17:12:12.748483Z",
     "shell.execute_reply": "2022-04-28T17:12:12.749379Z",
     "shell.execute_reply.started": "2022-04-28T17:03:07.036326Z"
    },
    "papermill": {
     "duration": 1.211885,
     "end_time": "2022-04-28T17:12:12.749693",
     "exception": false,
     "start_time": "2022-04-28T17:12:11.537808",
     "status": "completed"
    },
    "tags": []
   },
   "outputs": [
    {
     "name": "stderr",
     "output_type": "stream",
     "text": [
      "/opt/conda/lib/python3.7/site-packages/torch/utils/data/dataloader.py:481: UserWarning: This DataLoader will create 4 worker processes in total. Our suggested max number of worker in current system is 2, which is smaller than what this DataLoader is going to create. Please be aware that excessive worker creation might get DataLoader running slow or even freeze, lower the worker number to avoid potential slowness/freeze if necessary.\n",
      "  cpuset_checked))\n"
     ]
    }
   ],
   "source": [
    "transforms = {\n",
    "    'train': transforms.Compose([\n",
    "        transforms.RandomResizedCrop(224),\n",
    "        transforms.RandomHorizontalFlip(),\n",
    "        transforms.ToTensor(),\n",
    "        transforms.Normalize([0.485, 0.456, 0.406], [0.229, 0.224, 0.225])\n",
    "    ]),\n",
    "    'val': transforms.Compose([\n",
    "        transforms.Resize(256),\n",
    "        transforms.CenterCrop(224),\n",
    "        transforms.ToTensor(),\n",
    "        transforms.Normalize([0.485, 0.456, 0.406], [0.229, 0.224, 0.225])\n",
    "    ]),\n",
    "    'test': transforms.Compose([\n",
    "        transforms.Resize(256),\n",
    "        transforms.CenterCrop(224),\n",
    "        transforms.ToTensor(),\n",
    "        transforms.Normalize([0.485, 0.456, 0.406], [0.229, 0.224, 0.225])\n",
    "    ])\n",
    "}\n",
    "\n",
    "data_dir = '../input/dataorg/data'\n",
    "image_datasets = {x: datasets.ImageFolder(os.path.join(data_dir, x), transform=transforms[x])\n",
    "                  for x in ['train', 'val', 'test']}\n",
    "dataloaders = {x: torch.utils.data.DataLoader(image_datasets[x], batch_size=4, shuffle=True, num_workers=4)\n",
    "               for x in ['train', 'val', 'test']}\n",
    "data_size = {x: len(image_datasets[x]) for x in ['train', 'val', 'test']}\n",
    "class_names = image_datasets['train'].classes   \n",
    "device = torch.device(\"cuda:0\" if torch.cuda.is_available() else \"cpu\")"
   ]
  },
  {
   "cell_type": "code",
   "execution_count": 3,
   "id": "7f1f1215",
   "metadata": {
    "execution": {
     "iopub.execute_input": "2022-04-28T17:12:12.848023Z",
     "iopub.status.busy": "2022-04-28T17:12:12.846907Z",
     "iopub.status.idle": "2022-04-28T17:12:13.208171Z",
     "shell.execute_reply": "2022-04-28T17:12:13.209218Z",
     "shell.execute_reply.started": "2022-04-28T17:03:07.831133Z"
    },
    "papermill": {
     "duration": 0.41225,
     "end_time": "2022-04-28T17:12:13.209566",
     "exception": false,
     "start_time": "2022-04-28T17:12:12.797316",
     "status": "completed"
    },
    "tags": []
   },
   "outputs": [],
   "source": [
    "dataiter = iter(dataloaders['train'])\n",
    "images, labels = dataiter.next()"
   ]
  },
  {
   "cell_type": "code",
   "execution_count": 4,
   "id": "c2f3c47d",
   "metadata": {
    "execution": {
     "iopub.execute_input": "2022-04-28T17:12:13.363284Z",
     "iopub.status.busy": "2022-04-28T17:12:13.361730Z",
     "iopub.status.idle": "2022-04-28T17:12:13.737756Z",
     "shell.execute_reply": "2022-04-28T17:12:13.737005Z",
     "shell.execute_reply.started": "2022-04-28T17:03:08.088143Z"
    },
    "papermill": {
     "duration": 0.431161,
     "end_time": "2022-04-28T17:12:13.737931",
     "exception": false,
     "start_time": "2022-04-28T17:12:13.306770",
     "status": "completed"
    },
    "scrolled": true,
    "tags": []
   },
   "outputs": [
    {
     "data": {
      "image/png": "[encoded data removed]",
      "text/plain": [
       "<Figure size 432x288 with 1 Axes>"
      ]
     },
     "metadata": {
      "needs_background": "light"
     },
     "output_type": "display_data"
    }
   ],
   "source": [
    "def imshow(inp, title=None):\n",
    "    inp = inp.numpy().transpose((1, 2, 0))\n",
    "    mean = np.array([0.485, 0.456, 0.406])\n",
    "    std = np.array([0.229, 0.224, 0.225])\n",
    "    inp = std * inp + mean\n",
    "    inp = np.clip(inp, 0, 1)\n",
    "    plt.imshow(inp)\n",
    "    if title is not None:\n",
    "        plt.title(title)\n",
    "    plt.pause(0.001)\n",
    "    \n",
    "out = torchvision.utils.make_grid(images)\n",
    "imshow(out, title=[class_names[x] for x in labels])"
   ]
  },
  {
   "cell_type": "markdown",
   "id": "3fba1b73",
   "metadata": {
    "papermill": {
     "duration": 0.04758,
     "end_time": "2022-04-28T17:12:13.833504",
     "exception": false,
     "start_time": "2022-04-28T17:12:13.785924",
     "status": "completed"
    },
    "tags": []
   },
   "source": [
    "## Create a function to train and to evaluate the model"
   ]
  },
  {
   "cell_type": "code",
   "execution_count": 5,
   "id": "28802f9d",
   "metadata": {
    "execution": {
     "iopub.execute_input": "2022-04-28T17:12:13.943398Z",
     "iopub.status.busy": "2022-04-28T17:12:13.941206Z",
     "iopub.status.idle": "2022-04-28T17:12:13.947300Z",
     "shell.execute_reply": "2022-04-28T17:12:13.948002Z",
     "shell.execute_reply.started": "2022-04-28T17:03:08.495408Z"
    },
    "papermill": {
     "duration": 0.068934,
     "end_time": "2022-04-28T17:12:13.948261",
     "exception": false,
     "start_time": "2022-04-28T17:12:13.879327",
     "status": "completed"
    },
    "tags": []
   },
   "outputs": [],
   "source": [
    "def train_model(model, criterion, optimizer, scheduler, num_epochs=2):\n",
    "    since = time.time()\n",
    "    \n",
    "    best_model_wts = copy.deepcopy(model.state_dict())\n",
    "    best_acc = 0.0\n",
    "    \n",
    "    for epoch in range(num_epochs):\n",
    "        print('Epoch {}/{}'.format(epoch, num_epochs - 1))\n",
    "        print('-' * 10)\n",
    "        \n",
    "        for phase in ['train', 'val']:\n",
    "            if phase == 'train':\n",
    "                model.train()\n",
    "            else:\n",
    "                model.eval()\n",
    "                \n",
    "            running_loss = 0.0\n",
    "            running_corrects = 0\n",
    "            \n",
    "            for inputs, labels in dataloaders[phase]:\n",
    "                inputs = inputs.to(device)\n",
    "                labels = labels.to(device)\n",
    "                \n",
    "                optimizer.zero_grad()\n",
    "                \n",
    "                with torch.set_grad_enabled(phase == 'train'):\n",
    "                    outputs = model(inputs)\n",
    "                    _, preds = torch.max(outputs, 1)\n",
    "                    loss = criterion(outputs, labels)\n",
    "                    \n",
    "                    if phase == 'train':\n",
    "                        loss.backward()\n",
    "                        optimizer.step()\n",
    "                        \n",
    "                running_loss += loss.item() * inputs.size(0)\n",
    "                running_corrects += torch.sum(preds == labels.data)\n",
    "                \n",
    "            if phase == 'train':\n",
    "                scheduler.step()\n",
    "                \n",
    "            epoch_loss = running_loss / data_size[phase]\n",
    "            epoch_acc = running_corrects.double() / data_size[phase]\n",
    "            \n",
    "            print('{} Loss: {:.4f} Acc: {:.4f}'.format(\n",
    "                phase, epoch_loss, epoch_acc))\n",
    "            \n",
    "            if phase == 'val' and epoch_acc > best_acc:\n",
    "                best_acc = epoch_acc\n",
    "                best_model_wts = copy.deepcopy(model.state_dict())\n",
    "        print()\n",
    "    \n",
    "    time_elapsed = time.time() - since\n",
    "    print('Training complete in {:.0f}m {:.0f}s'.format(\n",
    "        time_elapsed // 60, time_elapsed % 60))\n",
    "    print('Best val Acc: {:4f}'.format(best_acc))\n",
    "    \n",
    "    model.load_state_dict(best_model_wts)\n",
    "    return model"
   ]
  },
  {
   "cell_type": "markdown",
   "id": "c7dbf52f",
   "metadata": {
    "papermill": {
     "duration": 0.050333,
     "end_time": "2022-04-28T17:12:14.046294",
     "exception": false,
     "start_time": "2022-04-28T17:12:13.995961",
     "status": "completed"
    },
    "tags": []
   },
   "source": [
    "## Declare and Download (optional) the pretrained model"
   ]
  },
  {
   "cell_type": "code",
   "execution_count": 6,
   "id": "9c802d15",
   "metadata": {
    "execution": {
     "iopub.execute_input": "2022-04-28T17:12:14.146028Z",
     "iopub.status.busy": "2022-04-28T17:12:14.144898Z",
     "iopub.status.idle": "2022-04-28T17:12:17.018351Z",
     "shell.execute_reply": "2022-04-28T17:12:17.018960Z",
     "shell.execute_reply.started": "2022-04-28T17:03:08.515589Z"
    },
    "papermill": {
     "duration": 2.925397,
     "end_time": "2022-04-28T17:12:17.019188",
     "exception": false,
     "start_time": "2022-04-28T17:12:14.093791",
     "status": "completed"
    },
    "tags": []
   },
   "outputs": [
    {
     "name": "stderr",
     "output_type": "stream",
     "text": [
      "Downloading: \"https://download.pytorch.org/models/resnet18-f37072fd.pth\" to /root/.cache/torch/hub/checkpoints/resnet18-f37072fd.pth\n"
     ]
    },
    {
     "data": {
      "application/vnd.jupyter.widget-view+json": {
       "model_id": "25835d6fe48c40c5bf486ad0d90f3d1f",
       "version_major": 2,
       "version_minor": 0
      },
      "text/plain": [
       "  0%|          | 0.00/44.7M [00:00<?, ?B/s]"
      ]
     },
     "metadata": {},
     "output_type": "display_data"
    }
   ],
   "source": [
    "model_resnet = models.resnet18(pretrained=True)"
   ]
  },
  {
   "cell_type": "code",
   "execution_count": 7,
   "id": "c1c73ab8",
   "metadata": {
    "execution": {
     "iopub.execute_input": "2022-04-28T17:12:17.122594Z",
     "iopub.status.busy": "2022-04-28T17:12:17.121658Z",
     "iopub.status.idle": "2022-04-28T17:12:36.957005Z",
     "shell.execute_reply": "2022-04-28T17:12:36.956388Z",
     "shell.execute_reply.started": "2022-04-28T17:03:10.313371Z"
    },
    "papermill": {
     "duration": 19.889341,
     "end_time": "2022-04-28T17:12:36.957161",
     "exception": false,
     "start_time": "2022-04-28T17:12:17.067820",
     "status": "completed"
    },
    "tags": []
   },
   "outputs": [
    {
     "name": "stderr",
     "output_type": "stream",
     "text": [
      "Downloading: \"https://download.pytorch.org/models/vgg16-397923af.pth\" to /root/.cache/torch/hub/checkpoints/vgg16-397923af.pth\n"
     ]
    },
    {
     "data": {
      "application/vnd.jupyter.widget-view+json": {
       "model_id": "171364978d724821b7bfd88e180a33d9",
       "version_major": 2,
       "version_minor": 0
      },
      "text/plain": [
       "  0%|          | 0.00/528M [00:00<?, ?B/s]"
      ]
     },
     "metadata": {},
     "output_type": "display_data"
    }
   ],
   "source": [
    "model_vgg16 = models.vgg16(pretrained=True)"
   ]
  },
  {
   "cell_type": "code",
   "execution_count": 8,
   "id": "6c409cde",
   "metadata": {
    "execution": {
     "iopub.execute_input": "2022-04-28T17:12:37.107524Z",
     "iopub.status.busy": "2022-04-28T17:12:37.106552Z",
     "iopub.status.idle": "2022-04-28T17:12:42.424152Z",
     "shell.execute_reply": "2022-04-28T17:12:42.423496Z",
     "shell.execute_reply.started": "2022-04-28T17:03:25.176781Z"
    },
    "papermill": {
     "duration": 5.418302,
     "end_time": "2022-04-28T17:12:42.424327",
     "exception": false,
     "start_time": "2022-04-28T17:12:37.006025",
     "status": "completed"
    },
    "tags": []
   },
   "outputs": [
    {
     "name": "stderr",
     "output_type": "stream",
     "text": [
      "Downloading: \"https://download.pytorch.org/models/inception_v3_google-0cc3c7bd.pth\" to /root/.cache/torch/hub/checkpoints/inception_v3_google-0cc3c7bd.pth\n"
     ]
    },
    {
     "data": {
      "application/vnd.jupyter.widget-view+json": {
       "model_id": "3a58717f4e7f44cda2a43e1069d8f7f9",
       "version_major": 2,
       "version_minor": 0
      },
      "text/plain": [
       "  0%|          | 0.00/104M [00:00<?, ?B/s]"
      ]
     },
     "metadata": {},
     "output_type": "display_data"
    }
   ],
   "source": [
    "model_inceptionv3 = models.inception_v3(pretrained=True)"
   ]
  },
  {
   "cell_type": "code",
   "execution_count": 9,
   "id": "7659f234",
   "metadata": {
    "execution": {
     "iopub.execute_input": "2022-04-28T17:12:42.533152Z",
     "iopub.status.busy": "2022-04-28T17:12:42.532226Z",
     "iopub.status.idle": "2022-04-28T17:12:51.843375Z",
     "shell.execute_reply": "2022-04-28T17:12:51.843972Z",
     "shell.execute_reply.started": "2022-04-28T17:03:28.920522Z"
    },
    "papermill": {
     "duration": 9.36793,
     "end_time": "2022-04-28T17:12:51.844178",
     "exception": false,
     "start_time": "2022-04-28T17:12:42.476248",
     "status": "completed"
    },
    "tags": []
   },
   "outputs": [
    {
     "name": "stderr",
     "output_type": "stream",
     "text": [
      "Downloading: \"https://download.pytorch.org/models/alexnet-owt-7be5be79.pth\" to /root/.cache/torch/hub/checkpoints/alexnet-owt-7be5be79.pth\n"
     ]
    },
    {
     "data": {
      "application/vnd.jupyter.widget-view+json": {
       "model_id": "6b69a5a035014e40a59a3f1c85688b6b",
       "version_major": 2,
       "version_minor": 0
      },
      "text/plain": [
       "  0%|          | 0.00/233M [00:00<?, ?B/s]"
      ]
     },
     "metadata": {},
     "output_type": "display_data"
    }
   ],
   "source": [
    "model_alexnet = models.alexnet(pretrained=True)"
   ]
  },
  {
   "cell_type": "markdown",
   "id": "3e47ed94",
   "metadata": {
    "papermill": {
     "duration": 0.048344,
     "end_time": "2022-04-28T17:12:51.940922",
     "exception": false,
     "start_time": "2022-04-28T17:12:51.892578",
     "status": "completed"
    },
    "tags": []
   },
   "source": [
    "# Set the model, parameters to tune, criterion, oprimizer, and the weight update"
   ]
  },
  {
   "cell_type": "markdown",
   "id": "37323622",
   "metadata": {
    "papermill": {
     "duration": 0.062343,
     "end_time": "2022-04-28T17:12:52.097530",
     "exception": false,
     "start_time": "2022-04-28T17:12:52.035187",
     "status": "completed"
    },
    "tags": []
   },
   "source": [
    "### AlexNet Architecture"
   ]
  },
  {
   "cell_type": "code",
   "execution_count": 10,
   "id": "d438edbe",
   "metadata": {
    "execution": {
     "iopub.execute_input": "2022-04-28T17:12:52.200658Z",
     "iopub.status.busy": "2022-04-28T17:12:52.199910Z",
     "iopub.status.idle": "2022-04-28T17:12:55.356911Z",
     "shell.execute_reply": "2022-04-28T17:12:55.356103Z",
     "shell.execute_reply.started": "2022-04-28T17:03:35.711423Z"
    },
    "papermill": {
     "duration": 3.211813,
     "end_time": "2022-04-28T17:12:55.357052",
     "exception": false,
     "start_time": "2022-04-28T17:12:52.145239",
     "status": "completed"
    },
    "tags": []
   },
   "outputs": [],
   "source": [
    "for param in model_alexnet.parameters():\n",
    "    param.requires_grad = False\n",
    "\n",
    "num_ftrs = model_alexnet.classifier[6].in_features\n",
    "model_alexnet.classifier[6] = nn.Linear(num_ftrs, len(class_names))\n",
    "model_alexnet = model_alexnet.to(device)\n",
    "criterion = nn.CrossEntropyLoss()\n",
    "optimizer_conv = optim.SGD(model_alexnet.classifier[6].parameters(), lr=0.001, momentum=0.9)\n",
    "exp_lr_scheduler = lr_scheduler.StepLR(optimizer_conv, step_size=7, gamma=0.1)"
   ]
  },
  {
   "cell_type": "code",
   "execution_count": 11,
   "id": "81a7c4c8",
   "metadata": {
    "execution": {
     "iopub.execute_input": "2022-04-28T17:12:55.467302Z",
     "iopub.status.busy": "2022-04-28T17:12:55.466689Z",
     "iopub.status.idle": "2022-04-28T17:18:26.090147Z",
     "shell.execute_reply": "2022-04-28T17:18:26.090784Z",
     "shell.execute_reply.started": "2022-04-28T17:03:38.598865Z"
    },
    "papermill": {
     "duration": 330.68089,
     "end_time": "2022-04-28T17:18:26.091069",
     "exception": false,
     "start_time": "2022-04-28T17:12:55.410179",
     "status": "completed"
    },
    "tags": []
   },
   "outputs": [
    {
     "name": "stdout",
     "output_type": "stream",
     "text": [
      "Epoch 0/24\n",
      "----------\n",
      "train Loss: 0.9806 Acc: 0.7888\n",
      "val Loss: 0.4218 Acc: 0.9059\n",
      "\n",
      "Epoch 1/24\n",
      "----------\n",
      "train Loss: 0.7186 Acc: 0.8620\n",
      "val Loss: 0.4619 Acc: 0.9020\n",
      "\n",
      "Epoch 2/24\n",
      "----------\n",
      "train Loss: 0.6901 Acc: 0.8694\n",
      "val Loss: 0.5177 Acc: 0.8667\n",
      "\n",
      "Epoch 3/24\n",
      "----------\n",
      "train Loss: 0.6564 Acc: 0.8821\n",
      "val Loss: 0.2646 Acc: 0.9490\n",
      "\n",
      "Epoch 4/24\n",
      "----------\n",
      "train Loss: 0.6034 Acc: 0.8883\n",
      "val Loss: 0.2384 Acc: 0.9412\n",
      "\n",
      "Epoch 5/24\n",
      "----------\n",
      "train Loss: 0.6378 Acc: 0.8931\n",
      "val Loss: 0.4011 Acc: 0.9333\n",
      "\n",
      "Epoch 6/24\n",
      "----------\n",
      "train Loss: 0.5751 Acc: 0.8979\n",
      "val Loss: 0.3344 Acc: 0.9451\n",
      "\n",
      "Epoch 7/24\n",
      "----------\n",
      "train Loss: 0.4606 Acc: 0.9128\n",
      "val Loss: 0.3035 Acc: 0.9412\n",
      "\n",
      "Epoch 8/24\n",
      "----------\n",
      "train Loss: 0.3738 Acc: 0.9238\n",
      "val Loss: 0.2909 Acc: 0.9412\n",
      "\n",
      "Epoch 9/24\n",
      "----------\n",
      "train Loss: 0.3546 Acc: 0.9211\n",
      "val Loss: 0.2043 Acc: 0.9412\n",
      "\n",
      "Epoch 10/24\n",
      "----------\n",
      "train Loss: 0.3359 Acc: 0.9185\n",
      "val Loss: 0.2150 Acc: 0.9490\n",
      "\n",
      "Epoch 11/24\n",
      "----------\n",
      "train Loss: 0.3135 Acc: 0.9242\n",
      "val Loss: 0.1586 Acc: 0.9451\n",
      "\n",
      "Epoch 12/24\n",
      "----------\n",
      "train Loss: 0.3344 Acc: 0.9207\n",
      "val Loss: 0.1345 Acc: 0.9451\n",
      "\n",
      "Epoch 13/24\n",
      "----------\n",
      "train Loss: 0.3325 Acc: 0.9176\n",
      "val Loss: 0.1577 Acc: 0.9490\n",
      "\n",
      "Epoch 14/24\n",
      "----------\n",
      "train Loss: 0.2966 Acc: 0.9334\n",
      "val Loss: 0.1289 Acc: 0.9608\n",
      "\n",
      "Epoch 15/24\n",
      "----------\n",
      "train Loss: 0.3111 Acc: 0.9290\n",
      "val Loss: 0.1284 Acc: 0.9608\n",
      "\n",
      "Epoch 16/24\n",
      "----------\n",
      "train Loss: 0.3210 Acc: 0.9281\n",
      "val Loss: 0.1254 Acc: 0.9608\n",
      "\n",
      "Epoch 17/24\n",
      "----------\n",
      "train Loss: 0.2536 Acc: 0.9334\n",
      "val Loss: 0.1264 Acc: 0.9608\n",
      "\n",
      "Epoch 18/24\n",
      "----------\n",
      "train Loss: 0.2585 Acc: 0.9373\n",
      "val Loss: 0.1260 Acc: 0.9608\n",
      "\n",
      "Epoch 19/24\n",
      "----------\n",
      "train Loss: 0.2972 Acc: 0.9238\n",
      "val Loss: 0.1352 Acc: 0.9569\n",
      "\n",
      "Epoch 20/24\n",
      "----------\n",
      "train Loss: 0.2497 Acc: 0.9343\n",
      "val Loss: 0.1236 Acc: 0.9608\n",
      "\n",
      "Epoch 21/24\n",
      "----------\n",
      "train Loss: 0.2637 Acc: 0.9259\n",
      "val Loss: 0.1241 Acc: 0.9608\n",
      "\n",
      "Epoch 22/24\n",
      "----------\n",
      "train Loss: 0.2461 Acc: 0.9391\n",
      "val Loss: 0.1249 Acc: 0.9608\n",
      "\n",
      "Epoch 23/24\n",
      "----------\n",
      "train Loss: 0.2782 Acc: 0.9277\n",
      "val Loss: 0.1270 Acc: 0.9608\n",
      "\n",
      "Epoch 24/24\n",
      "----------\n",
      "train Loss: 0.3228 Acc: 0.9202\n",
      "val Loss: 0.1280 Acc: 0.9608\n",
      "\n",
      "Training complete in 5m 31s\n",
      "Best val Acc: 0.960784\n"
     ]
    }
   ],
   "source": [
    "model_alexnet = train_model(model_alexnet, criterion, optimizer_conv, exp_lr_scheduler, num_epochs=25)"
   ]
  },
  {
   "cell_type": "markdown",
   "id": "39c11600",
   "metadata": {
    "papermill": {
     "duration": 0.072398,
     "end_time": "2022-04-28T17:18:26.238478",
     "exception": false,
     "start_time": "2022-04-28T17:18:26.166080",
     "status": "completed"
    },
    "tags": []
   },
   "source": [
    "### VGG-16 Architecture"
   ]
  },
  {
   "cell_type": "code",
   "execution_count": 12,
   "id": "2ee06f52",
   "metadata": {
    "execution": {
     "iopub.execute_input": "2022-04-28T17:18:26.401238Z",
     "iopub.status.busy": "2022-04-28T17:18:26.400027Z",
     "iopub.status.idle": "2022-04-28T17:18:26.521076Z",
     "shell.execute_reply": "2022-04-28T17:18:26.520298Z",
     "shell.execute_reply.started": "2022-04-28T17:07:31.955274Z"
    },
    "papermill": {
     "duration": 0.20869,
     "end_time": "2022-04-28T17:18:26.521303",
     "exception": false,
     "start_time": "2022-04-28T17:18:26.312613",
     "status": "completed"
    },
    "tags": []
   },
   "outputs": [],
   "source": [
    "for param in model_vgg16.parameters():\n",
    "    param.requires_grad = False\n",
    "\n",
    "num_ftrs = model_vgg16.classifier[6].in_features\n",
    "model_vgg16.classifier[6] = nn.Linear(num_ftrs, len(class_names))\n",
    "model_vgg16 = model_vgg16.to(device)\n",
    "criterion = nn.CrossEntropyLoss()\n",
    "optimizer_conv = optim.SGD(model_vgg16.classifier[6].parameters(), lr=0.001, momentum=0.9)\n",
    "exp_lr_scheduler = lr_scheduler.StepLR(optimizer_conv, step_size=7, gamma=0.1)"
   ]
  },
  {
   "cell_type": "code",
   "execution_count": 13,
   "id": "090648de",
   "metadata": {
    "execution": {
     "iopub.execute_input": "2022-04-28T17:18:26.682391Z",
     "iopub.status.busy": "2022-04-28T17:18:26.681261Z",
     "iopub.status.idle": "2022-04-28T17:25:18.586289Z",
     "shell.execute_reply": "2022-04-28T17:25:18.585279Z",
     "shell.execute_reply.started": "2022-04-28T17:07:32.101741Z"
    },
    "papermill": {
     "duration": 411.987191,
     "end_time": "2022-04-28T17:25:18.586492",
     "exception": false,
     "start_time": "2022-04-28T17:18:26.599301",
     "status": "completed"
    },
    "scrolled": true,
    "tags": []
   },
   "outputs": [
    {
     "name": "stdout",
     "output_type": "stream",
     "text": [
      "Epoch 0/24\n",
      "----------\n",
      "train Loss: 0.5304 Acc: 0.8081\n",
      "val Loss: 0.1617 Acc: 0.9451\n",
      "\n",
      "Epoch 1/24\n",
      "----------\n",
      "train Loss: 0.4058 Acc: 0.8589\n",
      "val Loss: 0.1198 Acc: 0.9608\n",
      "\n",
      "Epoch 2/24\n",
      "----------\n",
      "train Loss: 0.3917 Acc: 0.8637\n",
      "val Loss: 0.1606 Acc: 0.9412\n",
      "\n",
      "Epoch 3/24\n",
      "----------\n",
      "train Loss: 0.4105 Acc: 0.8655\n",
      "val Loss: 0.1022 Acc: 0.9725\n",
      "\n",
      "Epoch 4/24\n",
      "----------\n",
      "train Loss: 0.4208 Acc: 0.8593\n",
      "val Loss: 0.3037 Acc: 0.9255\n",
      "\n",
      "Epoch 5/24\n",
      "----------\n",
      "train Loss: 0.4095 Acc: 0.8738\n",
      "val Loss: 0.1327 Acc: 0.9569\n",
      "\n",
      "Epoch 6/24\n",
      "----------\n",
      "train Loss: 0.3860 Acc: 0.8782\n",
      "val Loss: 0.1891 Acc: 0.9294\n",
      "\n",
      "Epoch 7/24\n",
      "----------\n",
      "train Loss: 0.3783 Acc: 0.8782\n",
      "val Loss: 0.1272 Acc: 0.9529\n",
      "\n",
      "Epoch 8/24\n",
      "----------\n",
      "train Loss: 0.3211 Acc: 0.8953\n",
      "val Loss: 0.1055 Acc: 0.9647\n",
      "\n",
      "Epoch 9/24\n",
      "----------\n",
      "train Loss: 0.3572 Acc: 0.8922\n",
      "val Loss: 0.0944 Acc: 0.9686\n",
      "\n",
      "Epoch 10/24\n",
      "----------\n",
      "train Loss: 0.3397 Acc: 0.8940\n",
      "val Loss: 0.1078 Acc: 0.9647\n",
      "\n",
      "Epoch 11/24\n",
      "----------\n",
      "train Loss: 0.3054 Acc: 0.8891\n",
      "val Loss: 0.0894 Acc: 0.9765\n",
      "\n",
      "Epoch 12/24\n",
      "----------\n",
      "train Loss: 0.3489 Acc: 0.8874\n",
      "val Loss: 0.0916 Acc: 0.9686\n",
      "\n",
      "Epoch 13/24\n",
      "----------\n",
      "train Loss: 0.2782 Acc: 0.9089\n",
      "val Loss: 0.0850 Acc: 0.9804\n",
      "\n",
      "Epoch 14/24\n",
      "----------\n",
      "train Loss: 0.3274 Acc: 0.8869\n",
      "val Loss: 0.0873 Acc: 0.9725\n",
      "\n",
      "Epoch 15/24\n",
      "----------\n",
      "train Loss: 0.2955 Acc: 0.9014\n",
      "val Loss: 0.0875 Acc: 0.9725\n",
      "\n",
      "Epoch 16/24\n",
      "----------\n",
      "train Loss: 0.2928 Acc: 0.9014\n",
      "val Loss: 0.0873 Acc: 0.9725\n",
      "\n",
      "Epoch 17/24\n",
      "----------\n",
      "train Loss: 0.3038 Acc: 0.8944\n",
      "val Loss: 0.0909 Acc: 0.9725\n",
      "\n",
      "Epoch 18/24\n",
      "----------\n",
      "train Loss: 0.3428 Acc: 0.8918\n",
      "val Loss: 0.0880 Acc: 0.9725\n",
      "\n",
      "Epoch 19/24\n",
      "----------\n",
      "train Loss: 0.3383 Acc: 0.8874\n",
      "val Loss: 0.0864 Acc: 0.9725\n",
      "\n",
      "Epoch 20/24\n",
      "----------\n",
      "train Loss: 0.3119 Acc: 0.8940\n",
      "val Loss: 0.0869 Acc: 0.9725\n",
      "\n",
      "Epoch 21/24\n",
      "----------\n",
      "train Loss: 0.2996 Acc: 0.9023\n",
      "val Loss: 0.0868 Acc: 0.9725\n",
      "\n",
      "Epoch 22/24\n",
      "----------\n",
      "train Loss: 0.2853 Acc: 0.8970\n",
      "val Loss: 0.0871 Acc: 0.9725\n",
      "\n",
      "Epoch 23/24\n",
      "----------\n",
      "train Loss: 0.2923 Acc: 0.8961\n",
      "val Loss: 0.0870 Acc: 0.9725\n",
      "\n",
      "Epoch 24/24\n",
      "----------\n",
      "train Loss: 0.2947 Acc: 0.8970\n",
      "val Loss: 0.0873 Acc: 0.9725\n",
      "\n",
      "Training complete in 6m 52s\n",
      "Best val Acc: 0.980392\n"
     ]
    }
   ],
   "source": [
    "model_vgg16 = train_model(model_vgg16, criterion, optimizer_conv, exp_lr_scheduler, num_epochs=25)"
   ]
  },
  {
   "cell_type": "markdown",
   "id": "16b569ec",
   "metadata": {
    "papermill": {
     "duration": 0.098543,
     "end_time": "2022-04-28T17:25:18.783184",
     "exception": false,
     "start_time": "2022-04-28T17:25:18.684641",
     "status": "completed"
    },
    "tags": []
   },
   "source": [
    "### ResNet Architecture"
   ]
  },
  {
   "cell_type": "code",
   "execution_count": 14,
   "id": "9a2b43d9",
   "metadata": {
    "execution": {
     "iopub.execute_input": "2022-04-28T17:25:18.989700Z",
     "iopub.status.busy": "2022-04-28T17:25:18.988923Z",
     "iopub.status.idle": "2022-04-28T17:25:19.012145Z",
     "shell.execute_reply": "2022-04-28T17:25:19.012810Z",
     "shell.execute_reply.started": "2022-04-28T17:11:04.673883Z"
    },
    "papermill": {
     "duration": 0.13029,
     "end_time": "2022-04-28T17:25:19.013022",
     "exception": false,
     "start_time": "2022-04-28T17:25:18.882732",
     "status": "completed"
    },
    "tags": []
   },
   "outputs": [],
   "source": [
    "for param in model_resnet.parameters():\n",
    "    param.requires_grad = False\n",
    "\n",
    "num_ftrs = model_resnet.fc.in_features\n",
    "model_resnet.fc = nn.Linear(num_ftrs, len(class_names))\n",
    "model_resnet = model_resnet.to(device)\n",
    "criterion = nn.CrossEntropyLoss()\n",
    "optimizer_conv = optim.SGD(model_resnet.fc.parameters(), lr=0.001, momentum=0.9)\n",
    "exp_lr_scheduler = lr_scheduler.StepLR(optimizer_conv, step_size=7, gamma=0.1)"
   ]
  },
  {
   "cell_type": "code",
   "execution_count": 15,
   "id": "d39f84b8",
   "metadata": {
    "execution": {
     "iopub.execute_input": "2022-04-28T17:25:19.217432Z",
     "iopub.status.busy": "2022-04-28T17:25:19.216327Z",
     "iopub.status.idle": "2022-04-28T17:31:57.706642Z",
     "shell.execute_reply": "2022-04-28T17:31:57.707204Z",
     "shell.execute_reply.started": "2022-04-28T17:11:04.675770Z"
    },
    "papermill": {
     "duration": 398.595356,
     "end_time": "2022-04-28T17:31:57.707501",
     "exception": false,
     "start_time": "2022-04-28T17:25:19.112145",
     "status": "completed"
    },
    "tags": []
   },
   "outputs": [
    {
     "name": "stdout",
     "output_type": "stream",
     "text": [
      "Epoch 0/24\n",
      "----------\n",
      "train Loss: 0.6791 Acc: 0.7393\n",
      "val Loss: 0.1529 Acc: 0.9608\n",
      "\n",
      "Epoch 1/24\n",
      "----------\n",
      "train Loss: 0.5326 Acc: 0.7997\n",
      "val Loss: 0.1541 Acc: 0.9490\n",
      "\n",
      "Epoch 2/24\n",
      "----------\n",
      "train Loss: 0.4962 Acc: 0.8151\n",
      "val Loss: 0.1560 Acc: 0.9412\n",
      "\n",
      "Epoch 3/24\n",
      "----------\n",
      "train Loss: 0.4684 Acc: 0.8221\n",
      "val Loss: 0.1592 Acc: 0.9569\n",
      "\n",
      "Epoch 4/24\n",
      "----------\n",
      "train Loss: 0.4766 Acc: 0.8387\n",
      "val Loss: 0.1253 Acc: 0.9490\n",
      "\n",
      "Epoch 5/24\n",
      "----------\n",
      "train Loss: 0.5295 Acc: 0.8278\n",
      "val Loss: 0.1438 Acc: 0.9608\n",
      "\n",
      "Epoch 6/24\n",
      "----------\n",
      "train Loss: 0.4182 Acc: 0.8536\n",
      "val Loss: 0.1197 Acc: 0.9529\n",
      "\n",
      "Epoch 7/24\n",
      "----------\n",
      "train Loss: 0.3885 Acc: 0.8554\n",
      "val Loss: 0.1440 Acc: 0.9490\n",
      "\n",
      "Epoch 8/24\n",
      "----------\n",
      "train Loss: 0.3502 Acc: 0.8738\n",
      "val Loss: 0.1019 Acc: 0.9686\n",
      "\n",
      "Epoch 9/24\n",
      "----------\n",
      "train Loss: 0.3818 Acc: 0.8585\n",
      "val Loss: 0.1360 Acc: 0.9529\n",
      "\n",
      "Epoch 10/24\n",
      "----------\n",
      "train Loss: 0.3737 Acc: 0.8628\n",
      "val Loss: 0.1042 Acc: 0.9647\n",
      "\n",
      "Epoch 11/24\n",
      "----------\n",
      "train Loss: 0.3382 Acc: 0.8782\n",
      "val Loss: 0.1405 Acc: 0.9569\n",
      "\n",
      "Epoch 12/24\n",
      "----------\n",
      "train Loss: 0.3836 Acc: 0.8681\n",
      "val Loss: 0.1107 Acc: 0.9608\n",
      "\n",
      "Epoch 13/24\n",
      "----------\n",
      "train Loss: 0.3689 Acc: 0.8663\n",
      "val Loss: 0.1369 Acc: 0.9529\n",
      "\n",
      "Epoch 14/24\n",
      "----------\n",
      "train Loss: 0.3606 Acc: 0.8712\n",
      "val Loss: 0.1084 Acc: 0.9725\n",
      "\n",
      "Epoch 15/24\n",
      "----------\n",
      "train Loss: 0.3605 Acc: 0.8611\n",
      "val Loss: 0.1097 Acc: 0.9647\n",
      "\n",
      "Epoch 16/24\n",
      "----------\n",
      "train Loss: 0.3530 Acc: 0.8659\n",
      "val Loss: 0.1144 Acc: 0.9608\n",
      "\n",
      "Epoch 17/24\n",
      "----------\n",
      "train Loss: 0.3419 Acc: 0.8738\n",
      "val Loss: 0.1084 Acc: 0.9686\n",
      "\n",
      "Epoch 18/24\n",
      "----------\n",
      "train Loss: 0.3629 Acc: 0.8720\n",
      "val Loss: 0.1227 Acc: 0.9647\n",
      "\n",
      "Epoch 19/24\n",
      "----------\n",
      "train Loss: 0.3488 Acc: 0.8786\n",
      "val Loss: 0.1069 Acc: 0.9725\n",
      "\n",
      "Epoch 20/24\n",
      "----------\n",
      "train Loss: 0.3555 Acc: 0.8707\n",
      "val Loss: 0.0934 Acc: 0.9647\n",
      "\n",
      "Epoch 21/24\n",
      "----------\n",
      "train Loss: 0.3714 Acc: 0.8677\n",
      "val Loss: 0.1251 Acc: 0.9647\n",
      "\n",
      "Epoch 22/24\n",
      "----------\n",
      "train Loss: 0.3446 Acc: 0.8751\n",
      "val Loss: 0.1077 Acc: 0.9686\n",
      "\n",
      "Epoch 23/24\n",
      "----------\n",
      "train Loss: 0.3550 Acc: 0.8729\n",
      "val Loss: 0.1146 Acc: 0.9608\n",
      "\n",
      "Epoch 24/24\n",
      "----------\n",
      "train Loss: 0.3831 Acc: 0.8663\n",
      "val Loss: 0.1147 Acc: 0.9647\n",
      "\n",
      "Training complete in 6m 38s\n",
      "Best val Acc: 0.972549\n"
     ]
    }
   ],
   "source": [
    "model_resnet = train_model(model_resnet, criterion, optimizer_conv, exp_lr_scheduler, num_epochs=25)"
   ]
  },
  {
   "cell_type": "code",
   "execution_count": 16,
   "id": "fa4d0c70",
   "metadata": {
    "execution": {
     "iopub.execute_input": "2022-04-28T17:31:57.956787Z",
     "iopub.status.busy": "2022-04-28T17:31:57.955688Z",
     "iopub.status.idle": "2022-04-28T17:31:57.960358Z",
     "shell.execute_reply": "2022-04-28T17:31:57.961032Z",
     "shell.execute_reply.started": "2022-04-28T17:11:04.677519Z"
    },
    "papermill": {
     "duration": 0.136282,
     "end_time": "2022-04-28T17:31:57.961280",
     "exception": false,
     "start_time": "2022-04-28T17:31:57.824998",
     "status": "completed"
    },
    "tags": []
   },
   "outputs": [
    {
     "data": {
      "text/plain": [
       "ResNet(\n",
       "  (conv1): Conv2d(3, 64, kernel_size=(7, 7), stride=(2, 2), padding=(3, 3), bias=False)\n",
       "  (bn1): BatchNorm2d(64, eps=1e-05, momentum=0.1, affine=True, track_running_stats=True)\n",
       "  (relu): ReLU(inplace=True)\n",
       "  (maxpool): MaxPool2d(kernel_size=3, stride=2, padding=1, dilation=1, ceil_mode=False)\n",
       "  (layer1): Sequential(\n",
       "    (0): BasicBlock(\n",
       "      (conv1): Conv2d(64, 64, kernel_size=(3, 3), stride=(1, 1), padding=(1, 1), bias=False)\n",
       "      (bn1): BatchNorm2d(64, eps=1e-05, momentum=0.1, affine=True, track_running_stats=True)\n",
       "      (relu): ReLU(inplace=True)\n",
       "      (conv2): Conv2d(64, 64, kernel_size=(3, 3), stride=(1, 1), padding=(1, 1), bias=False)\n",
       "      (bn2): BatchNorm2d(64, eps=1e-05, momentum=0.1, affine=True, track_running_stats=True)\n",
       "    )\n",
       "    (1): BasicBlock(\n",
       "      (conv1): Conv2d(64, 64, kernel_size=(3, 3), stride=(1, 1), padding=(1, 1), bias=False)\n",
       "      (bn1): BatchNorm2d(64, eps=1e-05, momentum=0.1, affine=True, track_running_stats=True)\n",
       "      (relu): ReLU(inplace=True)\n",
       "      (conv2): Conv2d(64, 64, kernel_size=(3, 3), stride=(1, 1), padding=(1, 1), bias=False)\n",
       "      (bn2): BatchNorm2d(64, eps=1e-05, momentum=0.1, affine=True, track_running_stats=True)\n",
       "    )\n",
       "  )\n",
       "  (layer2): Sequential(\n",
       "    (0): BasicBlock(\n",
       "      (conv1): Conv2d(64, 128, kernel_size=(3, 3), stride=(2, 2), padding=(1, 1), bias=False)\n",
       "      (bn1): BatchNorm2d(128, eps=1e-05, momentum=0.1, affine=True, track_running_stats=True)\n",
       "      (relu): ReLU(inplace=True)\n",
       "      (conv2): Conv2d(128, 128, kernel_size=(3, 3), stride=(1, 1), padding=(1, 1), bias=False)\n",
       "      (bn2): BatchNorm2d(128, eps=1e-05, momentum=0.1, affine=True, track_running_stats=True)\n",
       "      (downsample): Sequential(\n",
       "        (0): Conv2d(64, 128, kernel_size=(1, 1), stride=(2, 2), bias=False)\n",
       "        (1): BatchNorm2d(128, eps=1e-05, momentum=0.1, affine=True, track_running_stats=True)\n",
       "      )\n",
       "    )\n",
       "    (1): BasicBlock(\n",
       "      (conv1): Conv2d(128, 128, kernel_size=(3, 3), stride=(1, 1), padding=(1, 1), bias=False)\n",
       "      (bn1): BatchNorm2d(128, eps=1e-05, momentum=0.1, affine=True, track_running_stats=True)\n",
       "      (relu): ReLU(inplace=True)\n",
       "      (conv2): Conv2d(128, 128, kernel_size=(3, 3), stride=(1, 1), padding=(1, 1), bias=False)\n",
       "      (bn2): BatchNorm2d(128, eps=1e-05, momentum=0.1, affine=True, track_running_stats=True)\n",
       "    )\n",
       "  )\n",
       "  (layer3): Sequential(\n",
       "    (0): BasicBlock(\n",
       "      (conv1): Conv2d(128, 256, kernel_size=(3, 3), stride=(2, 2), padding=(1, 1), bias=False)\n",
       "      (bn1): BatchNorm2d(256, eps=1e-05, momentum=0.1, affine=True, track_running_stats=True)\n",
       "      (relu): ReLU(inplace=True)\n",
       "      (conv2): Conv2d(256, 256, kernel_size=(3, 3), stride=(1, 1), padding=(1, 1), bias=False)\n",
       "      (bn2): BatchNorm2d(256, eps=1e-05, momentum=0.1, affine=True, track_running_stats=True)\n",
       "      (downsample): Sequential(\n",
       "        (0): Conv2d(128, 256, kernel_size=(1, 1), stride=(2, 2), bias=False)\n",
       "        (1): BatchNorm2d(256, eps=1e-05, momentum=0.1, affine=True, track_running_stats=True)\n",
       "      )\n",
       "    )\n",
       "    (1): BasicBlock(\n",
       "      (conv1): Conv2d(256, 256, kernel_size=(3, 3), stride=(1, 1), padding=(1, 1), bias=False)\n",
       "      (bn1): BatchNorm2d(256, eps=1e-05, momentum=0.1, affine=True, track_running_stats=True)\n",
       "      (relu): ReLU(inplace=True)\n",
       "      (conv2): Conv2d(256, 256, kernel_size=(3, 3), stride=(1, 1), padding=(1, 1), bias=False)\n",
       "      (bn2): BatchNorm2d(256, eps=1e-05, momentum=0.1, affine=True, track_running_stats=True)\n",
       "    )\n",
       "  )\n",
       "  (layer4): Sequential(\n",
       "    (0): BasicBlock(\n",
       "      (conv1): Conv2d(256, 512, kernel_size=(3, 3), stride=(2, 2), padding=(1, 1), bias=False)\n",
       "      (bn1): BatchNorm2d(512, eps=1e-05, momentum=0.1, affine=True, track_running_stats=True)\n",
       "      (relu): ReLU(inplace=True)\n",
       "      (conv2): Conv2d(512, 512, kernel_size=(3, 3), stride=(1, 1), padding=(1, 1), bias=False)\n",
       "      (bn2): BatchNorm2d(512, eps=1e-05, momentum=0.1, affine=True, track_running_stats=True)\n",
       "      (downsample): Sequential(\n",
       "        (0): Conv2d(256, 512, kernel_size=(1, 1), stride=(2, 2), bias=False)\n",
       "        (1): BatchNorm2d(512, eps=1e-05, momentum=0.1, affine=True, track_running_stats=True)\n",
       "      )\n",
       "    )\n",
       "    (1): BasicBlock(\n",
       "      (conv1): Conv2d(512, 512, kernel_size=(3, 3), stride=(1, 1), padding=(1, 1), bias=False)\n",
       "      (bn1): BatchNorm2d(512, eps=1e-05, momentum=0.1, affine=True, track_running_stats=True)\n",
       "      (relu): ReLU(inplace=True)\n",
       "      (conv2): Conv2d(512, 512, kernel_size=(3, 3), stride=(1, 1), padding=(1, 1), bias=False)\n",
       "      (bn2): BatchNorm2d(512, eps=1e-05, momentum=0.1, affine=True, track_running_stats=True)\n",
       "    )\n",
       "  )\n",
       "  (avgpool): AdaptiveAvgPool2d(output_size=(1, 1))\n",
       "  (fc): Linear(in_features=512, out_features=4, bias=True)\n",
       ")"
      ]
     },
     "execution_count": 16,
     "metadata": {},
     "output_type": "execute_result"
    }
   ],
   "source": [
    "model_resnet"
   ]
  },
  {
   "cell_type": "markdown",
   "id": "48e0e439",
   "metadata": {
    "papermill": {
     "duration": 0.120758,
     "end_time": "2022-04-28T17:31:58.204966",
     "exception": false,
     "start_time": "2022-04-28T17:31:58.084208",
     "status": "completed"
    },
    "tags": []
   },
   "source": [
    "### Custom EfficientNet model "
   ]
  },
  {
   "cell_type": "code",
   "execution_count": 17,
   "id": "6a11920a",
   "metadata": {
    "execution": {
     "iopub.execute_input": "2022-04-28T17:31:58.467651Z",
     "iopub.status.busy": "2022-04-28T17:31:58.466289Z",
     "iopub.status.idle": "2022-04-28T17:31:58.468649Z",
     "shell.execute_reply": "2022-04-28T17:31:58.469282Z",
     "shell.execute_reply.started": "2022-04-28T17:11:04.679313Z"
    },
    "papermill": {
     "duration": 0.145161,
     "end_time": "2022-04-28T17:31:58.469542",
     "exception": false,
     "start_time": "2022-04-28T17:31:58.324381",
     "status": "completed"
    },
    "tags": []
   },
   "outputs": [],
   "source": [
    "class Effnet(nn.Module):\n",
    "    def __init__(self, model_name):\n",
    "        super().__init__()\n",
    "        self.model = timm.create_model(model_name , pretrained = True)\n",
    "        self.conv_stem = nn.Sequential(\n",
    "                    self.model.conv_stem,\n",
    "                    self.model.bn1,\n",
    "                    self.model.act1\n",
    "        )\n",
    "        self.block0 = self.model.blocks[0]\n",
    "        self.block1 = self.model.blocks[1]\n",
    "        self.block2 = self.model.blocks[2]\n",
    "        self.block3 = self.model.blocks[3]\n",
    "        self.block4 = self.model.blocks[4]\n",
    "        self.block5 = self.model.blocks[5]\n",
    "        self.block6 = self.model.blocks[6]\n",
    "    \n",
    "\n",
    "        self.flatten = nn.Flatten()\n",
    "        self.flatten_and_pool = nn.AdaptiveAvgPool2d(4)\n",
    "    \n",
    "        self.linear_block = nn.Sequential(\n",
    "                nn.Linear(1280,512),\n",
    "                nn.SiLU(),\n",
    "                nn.Linear(512,256),\n",
    "                nn.SiLU(),\n",
    "                nn.Linear(256,128),\n",
    "                nn.SiLU()\n",
    "        )\n",
    "        \n",
    "        self.linear_block_2 = nn.Sequential(\n",
    "                nn.Linear(1792,1024),\n",
    "                nn.SiLU(),\n",
    "                nn.Linear(1024,512),\n",
    "                nn.SiLU(),\n",
    "                nn.Linear(512,256),\n",
    "                nn.SiLU(),\n",
    "                nn.Linear(256,128),\n",
    "                nn.SiLU()\n",
    "        )\n",
    "        \n",
    "        self.encoder = nn.Sequential(\n",
    "                nn.Linear(256,128),\n",
    "                nn.ReLU(),\n",
    "                nn.Linear(128,64),\n",
    "                nn.ReLU(),\n",
    "                nn.Linear(64,4)\n",
    "        )\n",
    "        \n",
    "        self.conv_head = nn.Sequential(\n",
    "                self.model.conv_head,\n",
    "                self.model.bn2,\n",
    "                self.model.global_pool,\n",
    "        )\n",
    "        self.fc=nn.Linear(self.model.classifier.in_features, 4)\n",
    "        self.classifier=nn.Linear(8, 4)\n",
    "    def forward(self, x):\n",
    "        x = self.conv_stem(x)\n",
    "        x = self.block0(x)\n",
    "        x = self.block1(x)\n",
    "        x = self.block2(x)\n",
    "        x = self.block3(x)\n",
    "        flatten_1 = self.linear_block(self.flatten(self.flatten_and_pool(x)))\n",
    "        \n",
    "        x = self.block4(x)\n",
    "        flatten_2 = self.linear_block_2(self.flatten(self.flatten_and_pool(x)))\n",
    "        flat = torch.cat((flatten_1,flatten_2), 1)# Concatenate\n",
    "        x = self.block5(x)\n",
    "        x = self.block6(x)\n",
    "        x = self.conv_head(x)\n",
    "        x = self.fc(x)\n",
    "        \n",
    "        flat = self.encoder(flat)\n",
    "        x = torch.cat((x,flat),1)\n",
    "        x = self.classifier(x)\n",
    "        return x"
   ]
  },
  {
   "cell_type": "code",
   "execution_count": 18,
   "id": "ae096837",
   "metadata": {
    "execution": {
     "iopub.execute_input": "2022-04-28T17:31:58.722250Z",
     "iopub.status.busy": "2022-04-28T17:31:58.721056Z",
     "iopub.status.idle": "2022-04-28T17:32:00.816906Z",
     "shell.execute_reply": "2022-04-28T17:32:00.816191Z",
     "shell.execute_reply.started": "2022-04-28T17:11:04.681098Z"
    },
    "papermill": {
     "duration": 2.226783,
     "end_time": "2022-04-28T17:32:00.817095",
     "exception": false,
     "start_time": "2022-04-28T17:31:58.590312",
     "status": "completed"
    },
    "tags": []
   },
   "outputs": [
    {
     "name": "stderr",
     "output_type": "stream",
     "text": [
      "Downloading: \"https://github.com/rwightman/pytorch-image-models/releases/download/v0.1-weights/efficientnet_b0_ra-3dd342df.pth\" to /root/.cache/torch/hub/checkpoints/efficientnet_b0_ra-3dd342df.pth\n"
     ]
    }
   ],
   "source": [
    "model = Effnet('efficientnet_b0')\n",
    "criterion = nn.CrossEntropyLoss()\n",
    "params = filter(lambda p: p.requires_grad, model.parameters()) \n",
    "optimizer_conv = optim.SGD(params, lr=0.001, momentum=0.9)\n",
    "exp_lr_scheduler = lr_scheduler.StepLR(optimizer_conv, step_size=7, gamma=0.1)"
   ]
  },
  {
   "cell_type": "code",
   "execution_count": 19,
   "id": "cf145bfe",
   "metadata": {
    "execution": {
     "iopub.execute_input": "2022-04-28T17:32:01.073956Z",
     "iopub.status.busy": "2022-04-28T17:32:01.072838Z",
     "iopub.status.idle": "2022-04-28T17:52:24.448359Z",
     "shell.execute_reply": "2022-04-28T17:52:24.449787Z",
     "shell.execute_reply.started": "2022-04-28T17:11:04.682988Z"
    },
    "papermill": {
     "duration": 1223.51197,
     "end_time": "2022-04-28T17:52:24.450157",
     "exception": false,
     "start_time": "2022-04-28T17:32:00.938187",
     "status": "completed"
    },
    "tags": []
   },
   "outputs": [
    {
     "name": "stdout",
     "output_type": "stream",
     "text": [
      "Epoch 0/24\n",
      "----------\n",
      "train Loss: 0.7040 Acc: 0.7406\n",
      "val Loss: 0.2090 Acc: 0.9098\n",
      "\n",
      "Epoch 1/24\n",
      "----------\n",
      "train Loss: 0.3912 Acc: 0.8672\n",
      "val Loss: 0.1518 Acc: 0.9529\n",
      "\n",
      "Epoch 2/24\n",
      "----------\n",
      "train Loss: 0.3818 Acc: 0.8716\n",
      "val Loss: 0.5845 Acc: 0.8510\n",
      "\n",
      "Epoch 3/24\n",
      "----------\n",
      "train Loss: 0.3269 Acc: 0.9010\n",
      "val Loss: 2.1555 Acc: 0.7647\n",
      "\n",
      "Epoch 4/24\n",
      "----------\n",
      "train Loss: 0.2918 Acc: 0.9097\n",
      "val Loss: 2.5119 Acc: 0.7020\n",
      "\n",
      "Epoch 5/24\n",
      "----------\n",
      "train Loss: 0.2711 Acc: 0.9181\n",
      "val Loss: 2.7124 Acc: 0.7490\n",
      "\n",
      "Epoch 6/24\n",
      "----------\n",
      "train Loss: 0.2854 Acc: 0.9189\n",
      "val Loss: 1.2999 Acc: 0.8627\n",
      "\n",
      "Epoch 7/24\n",
      "----------\n",
      "train Loss: 0.1520 Acc: 0.9527\n",
      "val Loss: 0.8602 Acc: 0.8902\n",
      "\n",
      "Epoch 8/24\n",
      "----------\n",
      "train Loss: 0.1628 Acc: 0.9549\n",
      "val Loss: 4.4207 Acc: 0.8157\n",
      "\n",
      "Epoch 9/24\n",
      "----------\n",
      "train Loss: 0.1284 Acc: 0.9658\n",
      "val Loss: 1.6558 Acc: 0.8118\n",
      "\n",
      "Epoch 10/24\n",
      "----------\n",
      "train Loss: 0.1127 Acc: 0.9654\n",
      "val Loss: 1.6159 Acc: 0.8431\n",
      "\n",
      "Epoch 11/24\n",
      "----------\n",
      "train Loss: 0.1239 Acc: 0.9702\n",
      "val Loss: 2.5876 Acc: 0.7882\n",
      "\n",
      "Epoch 12/24\n",
      "----------\n",
      "train Loss: 0.0881 Acc: 0.9737\n",
      "val Loss: 3.4737 Acc: 0.7882\n",
      "\n",
      "Epoch 13/24\n",
      "----------\n",
      "train Loss: 0.1281 Acc: 0.9636\n",
      "val Loss: 2.5123 Acc: 0.8000\n",
      "\n",
      "Epoch 14/24\n",
      "----------\n",
      "train Loss: 0.0866 Acc: 0.9772\n",
      "val Loss: 2.3709 Acc: 0.7804\n",
      "\n",
      "Epoch 15/24\n",
      "----------\n",
      "train Loss: 0.0851 Acc: 0.9763\n",
      "val Loss: 2.9271 Acc: 0.7922\n",
      "\n",
      "Epoch 16/24\n",
      "----------\n",
      "train Loss: 0.1000 Acc: 0.9702\n",
      "val Loss: 1.5563 Acc: 0.8392\n",
      "\n",
      "Epoch 17/24\n",
      "----------\n",
      "train Loss: 0.1208 Acc: 0.9663\n",
      "val Loss: 2.2864 Acc: 0.8235\n",
      "\n",
      "Epoch 18/24\n",
      "----------\n",
      "train Loss: 0.1485 Acc: 0.9667\n",
      "val Loss: 9.9249 Acc: 0.6824\n",
      "\n",
      "Epoch 19/24\n",
      "----------\n",
      "train Loss: 0.0974 Acc: 0.9755\n",
      "val Loss: 1.1396 Acc: 0.8627\n",
      "\n",
      "Epoch 20/24\n",
      "----------\n",
      "train Loss: 0.1523 Acc: 0.9658\n",
      "val Loss: 2.5677 Acc: 0.7804\n",
      "\n",
      "Epoch 21/24\n",
      "----------\n",
      "train Loss: 0.1197 Acc: 0.9645\n",
      "val Loss: 3.3274 Acc: 0.7804\n",
      "\n",
      "Epoch 22/24\n",
      "----------\n",
      "train Loss: 0.1330 Acc: 0.9588\n",
      "val Loss: 1.6724 Acc: 0.8078\n",
      "\n",
      "Epoch 23/24\n",
      "----------\n",
      "train Loss: 0.1009 Acc: 0.9741\n",
      "val Loss: 1.6041 Acc: 0.7922\n",
      "\n",
      "Epoch 24/24\n",
      "----------\n",
      "train Loss: 0.0797 Acc: 0.9803\n",
      "val Loss: 2.2273 Acc: 0.7725\n",
      "\n",
      "Training complete in 20m 23s\n",
      "Best val Acc: 0.952941\n"
     ]
    }
   ],
   "source": [
    "model = model.to(device)\n",
    "model = train_model(model, criterion, optimizer_conv, exp_lr_scheduler, num_epochs=25 )"
   ]
  },
  {
   "cell_type": "markdown",
   "id": "33e7b4a2",
   "metadata": {
    "papermill": {
     "duration": 0.167865,
     "end_time": "2022-04-28T17:52:24.851370",
     "exception": false,
     "start_time": "2022-04-28T17:52:24.683505",
     "status": "completed"
    },
    "tags": []
   },
   "source": [
    "### Ensemble Model(Ensemble of Resnet and VGG)"
   ]
  },
  {
   "cell_type": "code",
   "execution_count": 20,
   "id": "3dba0b56",
   "metadata": {
    "execution": {
     "iopub.execute_input": "2022-04-28T17:52:25.136113Z",
     "iopub.status.busy": "2022-04-28T17:52:25.134956Z",
     "iopub.status.idle": "2022-04-28T17:52:25.137741Z",
     "shell.execute_reply": "2022-04-28T17:52:25.138279Z",
     "shell.execute_reply.started": "2022-04-28T17:11:04.684755Z"
    },
    "papermill": {
     "duration": 0.15083,
     "end_time": "2022-04-28T17:52:25.138514",
     "exception": false,
     "start_time": "2022-04-28T17:52:24.987684",
     "status": "completed"
    },
    "tags": []
   },
   "outputs": [],
   "source": [
    "class EnsembleModel(nn.Module):\n",
    "    def __init__(self,resnet,vgg):\n",
    "        super().__init__()\n",
    "        self.resnet = copy.deepcopy(resnet)\n",
    "        self.resnet.fc = nn.Linear(512,256)\n",
    "        \n",
    "        self.vgg = copy.deepcopy(vgg)\n",
    "        self.vgg.classifier[6] = nn.Linear(4096,256)\n",
    "        \n",
    "        self.ensemble_block = nn.Sequential(\n",
    "                    nn.Linear(512,256),\n",
    "                    nn.ReLU(),\n",
    "                    nn.Linear(256,128),\n",
    "                    nn.ReLU(),\n",
    "                    nn.Linear(128,4)\n",
    "        )\n",
    "    def forward(self,x):\n",
    "        res_out = self.resnet(x)\n",
    "        vgg_out = self.vgg(x)\n",
    "        out = torch.cat((res_out,vgg_out),1)\n",
    "        out = self.ensemble_block(out)\n",
    "        return out"
   ]
  },
  {
   "cell_type": "code",
   "execution_count": 21,
   "id": "71871074",
   "metadata": {
    "execution": {
     "iopub.execute_input": "2022-04-28T17:52:25.420144Z",
     "iopub.status.busy": "2022-04-28T17:52:25.419064Z",
     "iopub.status.idle": "2022-04-28T17:52:25.460938Z",
     "shell.execute_reply": "2022-04-28T17:52:25.460279Z",
     "shell.execute_reply.started": "2022-04-28T17:11:04.686460Z"
    },
    "papermill": {
     "duration": 0.186032,
     "end_time": "2022-04-28T17:52:25.461095",
     "exception": false,
     "start_time": "2022-04-28T17:52:25.275063",
     "status": "completed"
    },
    "tags": []
   },
   "outputs": [],
   "source": [
    "#Ensemble model: Only train when resnet and vgg are trained else this model is useles\n",
    "ensemble = EnsembleModel(model_resnet.train(),model_vgg16.train())"
   ]
  },
  {
   "cell_type": "code",
   "execution_count": 22,
   "id": "f2ce6bfb",
   "metadata": {
    "execution": {
     "iopub.execute_input": "2022-04-28T17:52:25.745721Z",
     "iopub.status.busy": "2022-04-28T17:52:25.744960Z",
     "iopub.status.idle": "2022-04-28T18:01:10.981096Z",
     "shell.execute_reply": "2022-04-28T18:01:10.981868Z",
     "shell.execute_reply.started": "2022-04-28T17:11:04.688200Z"
    },
    "papermill": {
     "duration": 525.383568,
     "end_time": "2022-04-28T18:01:10.982121",
     "exception": false,
     "start_time": "2022-04-28T17:52:25.598553",
     "status": "completed"
    },
    "tags": []
   },
   "outputs": [
    {
     "name": "stdout",
     "output_type": "stream",
     "text": [
      "Epoch 0/24\n",
      "----------\n",
      "train Loss: 0.8045 Acc: 0.6779\n",
      "val Loss: 0.4829 Acc: 0.8039\n",
      "\n",
      "Epoch 1/24\n",
      "----------\n",
      "train Loss: 0.4121 Acc: 0.8493\n",
      "val Loss: 0.1547 Acc: 0.9451\n",
      "\n",
      "Epoch 2/24\n",
      "----------\n",
      "train Loss: 0.2851 Acc: 0.8979\n",
      "val Loss: 0.0910 Acc: 0.9765\n",
      "\n",
      "Epoch 3/24\n",
      "----------\n",
      "train Loss: 0.2532 Acc: 0.9040\n",
      "val Loss: 0.1916 Acc: 0.9373\n",
      "\n",
      "Epoch 4/24\n",
      "----------\n",
      "train Loss: 0.2241 Acc: 0.9229\n",
      "val Loss: 0.1370 Acc: 0.9608\n",
      "\n",
      "Epoch 5/24\n",
      "----------\n",
      "train Loss: 0.1944 Acc: 0.9312\n",
      "val Loss: 0.0496 Acc: 0.9804\n",
      "\n",
      "Epoch 6/24\n",
      "----------\n",
      "train Loss: 0.2142 Acc: 0.9132\n",
      "val Loss: 0.0644 Acc: 0.9725\n",
      "\n",
      "Epoch 7/24\n",
      "----------\n",
      "train Loss: 0.1787 Acc: 0.9369\n",
      "val Loss: 0.0452 Acc: 0.9843\n",
      "\n",
      "Epoch 8/24\n",
      "----------\n",
      "train Loss: 0.1841 Acc: 0.9321\n",
      "val Loss: 0.0594 Acc: 0.9765\n",
      "\n",
      "Epoch 9/24\n",
      "----------\n",
      "train Loss: 0.1563 Acc: 0.9452\n",
      "val Loss: 0.0661 Acc: 0.9725\n",
      "\n",
      "Epoch 10/24\n",
      "----------\n",
      "train Loss: 0.1791 Acc: 0.9316\n",
      "val Loss: 0.0836 Acc: 0.9725\n",
      "\n",
      "Epoch 11/24\n",
      "----------\n",
      "train Loss: 0.1606 Acc: 0.9400\n",
      "val Loss: 0.0542 Acc: 0.9804\n",
      "\n",
      "Epoch 12/24\n",
      "----------\n",
      "train Loss: 0.1466 Acc: 0.9492\n",
      "val Loss: 0.0444 Acc: 0.9843\n",
      "\n",
      "Epoch 13/24\n",
      "----------\n",
      "train Loss: 0.1493 Acc: 0.9474\n",
      "val Loss: 0.0616 Acc: 0.9804\n",
      "\n",
      "Epoch 14/24\n",
      "----------\n",
      "train Loss: 0.1484 Acc: 0.9448\n",
      "val Loss: 0.0372 Acc: 0.9882\n",
      "\n",
      "Epoch 15/24\n",
      "----------\n",
      "train Loss: 0.1742 Acc: 0.9351\n",
      "val Loss: 0.0411 Acc: 0.9843\n",
      "\n",
      "Epoch 16/24\n",
      "----------\n",
      "train Loss: 0.1720 Acc: 0.9343\n",
      "val Loss: 0.0424 Acc: 0.9882\n",
      "\n",
      "Epoch 17/24\n",
      "----------\n",
      "train Loss: 0.1691 Acc: 0.9400\n",
      "val Loss: 0.0428 Acc: 0.9882\n",
      "\n",
      "Epoch 18/24\n",
      "----------\n",
      "train Loss: 0.1413 Acc: 0.9470\n",
      "val Loss: 0.0441 Acc: 0.9882\n",
      "\n",
      "Epoch 19/24\n",
      "----------\n",
      "train Loss: 0.1560 Acc: 0.9426\n",
      "val Loss: 0.0486 Acc: 0.9882\n",
      "\n",
      "Epoch 20/24\n",
      "----------\n",
      "train Loss: 0.1540 Acc: 0.9470\n",
      "val Loss: 0.0409 Acc: 0.9882\n",
      "\n",
      "Epoch 21/24\n",
      "----------\n",
      "train Loss: 0.1506 Acc: 0.9408\n",
      "val Loss: 0.0461 Acc: 0.9882\n",
      "\n",
      "Epoch 22/24\n",
      "----------\n",
      "train Loss: 0.1375 Acc: 0.9496\n",
      "val Loss: 0.0581 Acc: 0.9804\n",
      "\n",
      "Epoch 23/24\n",
      "----------\n",
      "train Loss: 0.1563 Acc: 0.9461\n",
      "val Loss: 0.0468 Acc: 0.9804\n",
      "\n",
      "Epoch 24/24\n",
      "----------\n",
      "train Loss: 0.1603 Acc: 0.9452\n",
      "val Loss: 0.0566 Acc: 0.9804\n",
      "\n",
      "Training complete in 8m 45s\n",
      "Best val Acc: 0.988235\n"
     ]
    }
   ],
   "source": [
    "criterion = nn.CrossEntropyLoss()\n",
    "params = filter(lambda p: p.requires_grad, ensemble.parameters()) \n",
    "optimizer_conv = optim.SGD(params, lr=0.001, momentum=0.9)\n",
    "exp_lr_scheduler = lr_scheduler.StepLR(optimizer_conv, step_size=7, gamma=0.1)\n",
    "ensemble = ensemble.to(device)\n",
    "ensemble = train_model(ensemble, criterion, optimizer_conv, exp_lr_scheduler, num_epochs=25 )"
   ]
  },
  {
   "cell_type": "markdown",
   "id": "28949fe5",
   "metadata": {
    "papermill": {
     "duration": 0.170249,
     "end_time": "2022-04-28T18:01:11.428331",
     "exception": false,
     "start_time": "2022-04-28T18:01:11.258082",
     "status": "completed"
    },
    "tags": []
   },
   "source": [
    "### Test the model"
   ]
  },
  {
   "cell_type": "code",
   "execution_count": 23,
   "id": "19a5276f",
   "metadata": {
    "execution": {
     "iopub.execute_input": "2022-04-28T18:01:11.777892Z",
     "iopub.status.busy": "2022-04-28T18:01:11.777113Z",
     "iopub.status.idle": "2022-04-28T18:01:12.696938Z",
     "shell.execute_reply": "2022-04-28T18:01:12.697979Z",
     "shell.execute_reply.started": "2022-04-28T17:11:04.689946Z"
    },
    "papermill": {
     "duration": 1.098503,
     "end_time": "2022-04-28T18:01:12.698242",
     "exception": false,
     "start_time": "2022-04-28T18:01:11.599739",
     "status": "completed"
    },
    "tags": []
   },
   "outputs": [
    {
     "data": {
      "image/png": "[encoded data removed]",
      "text/plain": [
       "<Figure size 432x288 with 1 Axes>"
      ]
     },
     "metadata": {
      "needs_background": "light"
     },
     "output_type": "display_data"
    },
    {
     "name": "stdout",
     "output_type": "stream",
     "text": [
      "GroundTruth:  Cedar Apple Rust, Cedar Apple Rust, Healthy, Apple Scab\n",
      "Predicted:  Cedar Apple Rust, Cedar Apple Rust, Healthy, Apple Scab\n"
     ]
    }
   ],
   "source": [
    "dataiter = iter(dataloaders['test'])\n",
    "images, labels = dataiter.next()\n",
    "imshow(torchvision.utils.make_grid(images))\n",
    "print('GroundTruth: ', ', '.join('%5s' % class_names[x] for x in labels))\n",
    "images = images.to(device)\n",
    "labels = images.to(device)\n",
    "output = model_vgg16(images)\n",
    "_, predicted = torch.max(output, 1)\n",
    "print('Predicted: ', ', '.join('%5s' % class_names[x] for x in predicted))"
   ]
  },
  {
   "cell_type": "code",
   "execution_count": 24,
   "id": "53e266d2",
   "metadata": {
    "execution": {
     "iopub.execute_input": "2022-04-28T18:01:13.104906Z",
     "iopub.status.busy": "2022-04-28T18:01:13.103595Z",
     "iopub.status.idle": "2022-04-28T18:01:13.108352Z",
     "shell.execute_reply": "2022-04-28T18:01:13.108975Z",
     "shell.execute_reply.started": "2022-04-28T17:11:04.691813Z"
    },
    "papermill": {
     "duration": 0.182405,
     "end_time": "2022-04-28T18:01:13.109175",
     "exception": false,
     "start_time": "2022-04-28T18:01:12.926770",
     "status": "completed"
    },
    "tags": []
   },
   "outputs": [
    {
     "data": {
      "text/plain": [
       "torch.Size([4, 4])"
      ]
     },
     "execution_count": 24,
     "metadata": {},
     "output_type": "execute_result"
    }
   ],
   "source": [
    "output.shape"
   ]
  },
  {
   "cell_type": "code",
   "execution_count": 25,
   "id": "abc76b76",
   "metadata": {
    "execution": {
     "iopub.execute_input": "2022-04-28T18:01:13.448184Z",
     "iopub.status.busy": "2022-04-28T18:01:13.446900Z",
     "iopub.status.idle": "2022-04-28T18:01:13.451172Z",
     "shell.execute_reply": "2022-04-28T18:01:13.451839Z",
     "shell.execute_reply.started": "2022-04-28T17:11:04.693569Z"
    },
    "papermill": {
     "duration": 0.173335,
     "end_time": "2022-04-28T18:01:13.452029",
     "exception": false,
     "start_time": "2022-04-28T18:01:13.278694",
     "status": "completed"
    },
    "tags": []
   },
   "outputs": [
    {
     "data": {
      "text/plain": [
       "['Apple Scab', 'Black Rot', 'Cedar Apple Rust', 'Healthy']"
      ]
     },
     "execution_count": 25,
     "metadata": {},
     "output_type": "execute_result"
    }
   ],
   "source": [
    "class_names"
   ]
  },
  {
   "cell_type": "code",
   "execution_count": 26,
   "id": "7986ea58",
   "metadata": {
    "execution": {
     "iopub.execute_input": "2022-04-28T18:01:13.784469Z",
     "iopub.status.busy": "2022-04-28T18:01:13.783755Z",
     "iopub.status.idle": "2022-04-28T18:01:13.789981Z",
     "shell.execute_reply": "2022-04-28T18:01:13.790542Z",
     "shell.execute_reply.started": "2022-04-28T17:11:04.695302Z"
    },
    "papermill": {
     "duration": 0.17402,
     "end_time": "2022-04-28T18:01:13.790735",
     "exception": false,
     "start_time": "2022-04-28T18:01:13.616715",
     "status": "completed"
    },
    "tags": []
   },
   "outputs": [
    {
     "data": {
      "text/plain": [
       "torch.Size([4, 4])"
      ]
     },
     "execution_count": 26,
     "metadata": {},
     "output_type": "execute_result"
    }
   ],
   "source": [
    "output.shape"
   ]
  },
  {
   "cell_type": "markdown",
   "id": "f7e3d36f",
   "metadata": {
    "papermill": {
     "duration": 0.173472,
     "end_time": "2022-04-28T18:01:14.132221",
     "exception": false,
     "start_time": "2022-04-28T18:01:13.958749",
     "status": "completed"
    },
    "tags": []
   },
   "source": [
    "### Save the model"
   ]
  },
  {
   "cell_type": "code",
   "execution_count": 27,
   "id": "110b6d56",
   "metadata": {
    "execution": {
     "iopub.execute_input": "2022-04-28T18:01:14.476441Z",
     "iopub.status.busy": "2022-04-28T18:01:14.475338Z",
     "iopub.status.idle": "2022-04-28T18:01:14.586292Z",
     "shell.execute_reply": "2022-04-28T18:01:14.585674Z",
     "shell.execute_reply.started": "2022-04-28T17:11:04.697044Z"
    },
    "papermill": {
     "duration": 0.281127,
     "end_time": "2022-04-28T18:01:14.586473",
     "exception": false,
     "start_time": "2022-04-28T18:01:14.305346",
     "status": "completed"
    },
    "tags": []
   },
   "outputs": [],
   "source": [
    "# Save The Model\n",
    "PATH = './fix_resnet18.pth'\n",
    "torch.save(model_resnet.state_dict(), PATH)"
   ]
  }
 ],
 "metadata": {
  "kernelspec": {
   "display_name": "Python 3",
   "language": "python",
   "name": "python3"
  },
  "language_info": {
   "codemirror_mode": {
    "name": "ipython",
    "version": 3
   },
   "file_extension": ".py",
   "mimetype": "text/x-python",
   "name": "python",
   "nbconvert_exporter": "python",
   "pygments_lexer": "ipython3",
   "version": "3.7.12"
  },
  "papermill": {
   "default_parameters": {},
   "duration": 2973.866082,
   "end_time": "2022-04-28T18:01:17.295535",
   "environment_variables": {},
   "exception": null,
   "input_path": "__notebook__.ipynb",
   "output_path": "__notebook__.ipynb",
   "parameters": {},
   "start_time": "2022-04-28T17:11:43.429453",
   "version": "2.3.3"
  },
  "widgets": {
   "application/vnd.jupyter.widget-state+json": {
    "state": {
     "053b8a6c09b047238ee2fef305f47218": {
      "model_module": "@jupyter-widgets/controls",
      "model_module_version": "1.5.0",
      "model_name": "DescriptionStyleModel",
      "state": {
       "_model_module": "@jupyter-widgets/controls",
       "_model_module_version": "1.5.0",
       "_model_name": "DescriptionStyleModel",
       "_view_count": null,
       "_view_module": "@jupyter-widgets/base",
       "_view_module_version": "1.2.0",
       "_view_name": "StyleView",
       "description_width": ""
      }
     },
     "0f2f34d7b676455a9c0f4cbbab2472ec": {
      "model_module": "@jupyter-widgets/base",
      "model_module_version": "1.2.0",
      "model_name": "LayoutModel",
      "state": {
       "_model_module": "@jupyter-widgets/base",
       "_model_module_version": "1.2.0",
       "_model_name": "LayoutModel",
       "_view_count": null,
       "_view_module": "@jupyter-widgets/base",
       "_view_module_version": "1.2.0",
       "_view_name": "LayoutView",
       "align_content": null,
       "align_items": null,
       "align_self": null,
       "border": null,
       "bottom": null,
       "display": null,
       "flex": null,
       "flex_flow": null,
       "grid_area": null,
       "grid_auto_columns": null,
       "grid_auto_flow": null,
       "grid_auto_rows": null,
       "grid_column": null,
       "grid_gap": null,
       "grid_row": null,
       "grid_template_areas": null,
       "grid_template_columns": null,
       "grid_template_rows": null,
       "height": null,
       "justify_content": null,
       "justify_items": null,
       "left": null,
       "margin": null,
       "max_height": null,
       "max_width": null,
       "min_height": null,
       "min_width": null,
       "object_fit": null,
       "object_position": null,
       "order": null,
       "overflow": null,
       "overflow_x": null,
       "overflow_y": null,
       "padding": null,
       "right": null,
       "top": null,
       "visibility": null,
       "width": null
      }
     },
     "109c1579f16d4dfea9c06339e0273f89": {
      "model_module": "@jupyter-widgets/controls",
      "model_module_version": "1.5.0",
      "model_name": "FloatProgressModel",
      "state": {
       "_dom_classes": [],
       "_model_module": "@jupyter-widgets/controls",
       "_model_module_version": "1.5.0",
       "_model_name": "FloatProgressModel",
       "_view_count": null,
       "_view_module": "@jupyter-widgets/controls",
       "_view_module_version": "1.5.0",
       "_view_name": "ProgressView",
       "bar_style": "success",
       "description": "",
       "description_tooltip": null,
       "layout": "IPY_MODEL_e40cfb6353e04d3fba48f38c6f7d7e01",
       "max": 46830571.0,
       "min": 0.0,
       "orientation": "horizontal",
       "style": "IPY_MODEL_67c9e86510634d9c819383c0b3ffd511",
       "value": 46830571.0
      }
     },
     "14936745e49c45dd8de964fe970592d0": {
      "model_module": "@jupyter-widgets/controls",
      "model_module_version": "1.5.0",
      "model_name": "HTMLModel",
      "state": {
       "_dom_classes": [],
       "_model_module": "@jupyter-widgets/controls",
       "_model_module_version": "1.5.0",
       "_model_name": "HTMLModel",
       "_view_count": null,
       "_view_module": "@jupyter-widgets/controls",
       "_view_module_version": "1.5.0",
       "_view_name": "HTMLView",
       "description": "",
       "description_tooltip": null,
       "layout": "IPY_MODEL_386687a8c32749ae941fa9fceddb6f72",
       "placeholder": "​",
       "style": "IPY_MODEL_62b310f30fd74e849197910e3778bd43",
       "value": " 233M/233M [00:08&lt;00:00, 32.9MB/s]"
      }
     },
     "171364978d724821b7bfd88e180a33d9": {
      "model_module": "@jupyter-widgets/controls",
      "model_module_version": "1.5.0",
      "model_name": "HBoxModel",
      "state": {
       "_dom_classes": [],
       "_model_module": "@jupyter-widgets/controls",
       "_model_module_version": "1.5.0",
       "_model_name": "HBoxModel",
       "_view_count": null,
       "_view_module": "@jupyter-widgets/controls",
       "_view_module_version": "1.5.0",
       "_view_name": "HBoxView",
       "box_style": "",
       "children": [
        "IPY_MODEL_7318cff5101645d48efc33776ac8b314",
        "IPY_MODEL_7792cadc27ea4d768f67a9048fb47f60",
        "IPY_MODEL_5f31a9581fe449859d31cd5b5b0795be"
       ],
       "layout": "IPY_MODEL_bda2de975823407ba8ddb4318d87570e"
      }
     },
     "25835d6fe48c40c5bf486ad0d90f3d1f": {
      "model_module": "@jupyter-widgets/controls",
      "model_module_version": "1.5.0",
      "model_name": "HBoxModel",
      "state": {
       "_dom_classes": [],
       "_model_module": "@jupyter-widgets/controls",
       "_model_module_version": "1.5.0",
       "_model_name": "HBoxModel",
       "_view_count": null,
       "_view_module": "@jupyter-widgets/controls",
       "_view_module_version": "1.5.0",
       "_view_name": "HBoxView",
       "box_style": "",
       "children": [
        "IPY_MODEL_ec9940fead414164846fe1f3615ce0a4",
        "IPY_MODEL_109c1579f16d4dfea9c06339e0273f89",
        "IPY_MODEL_7a3470fd3b7a46a08b5b39798e060a70"
       ],
       "layout": "IPY_MODEL_7090ca6191344f2887d1710d6008a836"
      }
     },
     "29993d2c2ce54f45853bb2ce614b218c": {
      "model_module": "@jupyter-widgets/controls",
      "model_module_version": "1.5.0",
      "model_name": "DescriptionStyleModel",
      "state": {
       "_model_module": "@jupyter-widgets/controls",
       "_model_module_version": "1.5.0",
       "_model_name": "DescriptionStyleModel",
       "_view_count": null,
       "_view_module": "@jupyter-widgets/base",
       "_view_module_version": "1.2.0",
       "_view_name": "StyleView",
       "description_width": ""
      }
     },
     "34280d2880f34c16903d1789fd88aed2": {
      "model_module": "@jupyter-widgets/controls",
      "model_module_version": "1.5.0",
      "model_name": "FloatProgressModel",
      "state": {
       "_dom_classes": [],
       "_model_module": "@jupyter-widgets/controls",
       "_model_module_version": "1.5.0",
       "_model_name": "FloatProgressModel",
       "_view_count": null,
       "_view_module": "@jupyter-widgets/controls",
       "_view_module_version": "1.5.0",
       "_view_name": "ProgressView",
       "bar_style": "success",
       "description": "",
       "description_tooltip": null,
       "layout": "IPY_MODEL_8208874a48464349932dbcc46ce87508",
       "max": 244408911.0,
       "min": 0.0,
       "orientation": "horizontal",
       "style": "IPY_MODEL_828da03cd9dd46b59f1c02fa7794980d",
       "value": 244408911.0
      }
     },
     "386687a8c32749ae941fa9fceddb6f72": {
      "model_module": "@jupyter-widgets/base",
      "model_module_version": "1.2.0",
      "model_name": "LayoutModel",
      "state": {
       "_model_module": "@jupyter-widgets/base",
       "_model_module_version": "1.2.0",
       "_model_name": "LayoutModel",
       "_view_count": null,
       "_view_module": "@jupyter-widgets/base",
       "_view_module_version": "1.2.0",
       "_view_name": "LayoutView",
       "align_content": null,
       "align_items": null,
       "align_self": null,
       "border": null,
       "bottom": null,
       "display": null,
       "flex": null,
       "flex_flow": null,
       "grid_area": null,
       "grid_auto_columns": null,
       "grid_auto_flow": null,
       "grid_auto_rows": null,
       "grid_column": null,
       "grid_gap": null,
       "grid_row": null,
       "grid_template_areas": null,
       "grid_template_columns": null,
       "grid_template_rows": null,
       "height": null,
       "justify_content": null,
       "justify_items": null,
       "left": null,
       "margin": null,
       "max_height": null,
       "max_width": null,
       "min_height": null,
       "min_width": null,
       "object_fit": null,
       "object_position": null,
       "order": null,
       "overflow": null,
       "overflow_x": null,
       "overflow_y": null,
       "padding": null,
       "right": null,
       "top": null,
       "visibility": null,
       "width": null
      }
     },
     "3a58717f4e7f44cda2a43e1069d8f7f9": {
      "model_module": "@jupyter-widgets/controls",
      "model_module_version": "1.5.0",
      "model_name": "HBoxModel",
      "state": {
       "_dom_classes": [],
       "_model_module": "@jupyter-widgets/controls",
       "_model_module_version": "1.5.0",
       "_model_name": "HBoxModel",
       "_view_count": null,
       "_view_module": "@jupyter-widgets/controls",
       "_view_module_version": "1.5.0",
       "_view_name": "HBoxView",
       "box_style": "",
       "children": [
        "IPY_MODEL_80dceccc42834863a91336f02caa2e90",
        "IPY_MODEL_92e9968108304932a2031568533eab23",
        "IPY_MODEL_9c782c35fff1419e8beff7480f54ac63"
       ],
       "layout": "IPY_MODEL_8d9a376203254d5c83817ce591b0a300"
      }
     },
     "3d4ca2e30a5d4ad8a2ee4f9e1b103be3": {
      "model_module": "@jupyter-widgets/base",
      "model_module_version": "1.2.0",
      "model_name": "LayoutModel",
      "state": {
       "_model_module": "@jupyter-widgets/base",
       "_model_module_version": "1.2.0",
       "_model_name": "LayoutModel",
       "_view_count": null,
       "_view_module": "@jupyter-widgets/base",
       "_view_module_version": "1.2.0",
       "_view_name": "LayoutView",
       "align_content": null,
       "align_items": null,
       "align_self": null,
       "border": null,
       "bottom": null,
       "display": null,
       "flex": null,
       "flex_flow": null,
       "grid_area": null,
       "grid_auto_columns": null,
       "grid_auto_flow": null,
       "grid_auto_rows": null,
       "grid_column": null,
       "grid_gap": null,
       "grid_row": null,
       "grid_template_areas": null,
       "grid_template_columns": null,
       "grid_template_rows": null,
       "height": null,
       "justify_content": null,
       "justify_items": null,
       "left": null,
       "margin": null,
       "max_height": null,
       "max_width": null,
       "min_height": null,
       "min_width": null,
       "object_fit": null,
       "object_position": null,
       "order": null,
       "overflow": null,
       "overflow_x": null,
       "overflow_y": null,
       "padding": null,
       "right": null,
       "top": null,
       "visibility": null,
       "width": null
      }
     },
     "44a137fbe2c6433094a610660315d7ee": {
      "model_module": "@jupyter-widgets/controls",
      "model_module_version": "1.5.0",
      "model_name": "ProgressStyleModel",
      "state": {
       "_model_module": "@jupyter-widgets/controls",
       "_model_module_version": "1.5.0",
       "_model_name": "ProgressStyleModel",
       "_view_count": null,
       "_view_module": "@jupyter-widgets/base",
       "_view_module_version": "1.2.0",
       "_view_name": "StyleView",
       "bar_color": null,
       "description_width": ""
      }
     },
     "547a6beeb4c14fb6878e437f48ef9ad5": {
      "model_module": "@jupyter-widgets/base",
      "model_module_version": "1.2.0",
      "model_name": "LayoutModel",
      "state": {
       "_model_module": "@jupyter-widgets/base",
       "_model_module_version": "1.2.0",
       "_model_name": "LayoutModel",
       "_view_count": null,
       "_view_module": "@jupyter-widgets/base",
       "_view_module_version": "1.2.0",
       "_view_name": "LayoutView",
       "align_content": null,
       "align_items": null,
       "align_self": null,
       "border": null,
       "bottom": null,
       "display": null,
       "flex": null,
       "flex_flow": null,
       "grid_area": null,
       "grid_auto_columns": null,
       "grid_auto_flow": null,
       "grid_auto_rows": null,
       "grid_column": null,
       "grid_gap": null,
       "grid_row": null,
       "grid_template_areas": null,
       "grid_template_columns": null,
       "grid_template_rows": null,
       "height": null,
       "justify_content": null,
       "justify_items": null,
       "left": null,
       "margin": null,
       "max_height": null,
       "max_width": null,
       "min_height": null,
       "min_width": null,
       "object_fit": null,
       "object_position": null,
       "order": null,
       "overflow": null,
       "overflow_x": null,
       "overflow_y": null,
       "padding": null,
       "right": null,
       "top": null,
       "visibility": null,
       "width": null
      }
     },
     "5e39fb0d425e442496baed99f2f0f985": {
      "model_module": "@jupyter-widgets/base",
      "model_module_version": "1.2.0",
      "model_name": "LayoutModel",
      "state": {
       "_model_module": "@jupyter-widgets/base",
       "_model_module_version": "1.2.0",
       "_model_name": "LayoutModel",
       "_view_count": null,
       "_view_module": "@jupyter-widgets/base",
       "_view_module_version": "1.2.0",
       "_view_name": "LayoutView",
       "align_content": null,
       "align_items": null,
       "align_self": null,
       "border": null,
       "bottom": null,
       "display": null,
       "flex": null,
       "flex_flow": null,
       "grid_area": null,
       "grid_auto_columns": null,
       "grid_auto_flow": null,
       "grid_auto_rows": null,
       "grid_column": null,
       "grid_gap": null,
       "grid_row": null,
       "grid_template_areas": null,
       "grid_template_columns": null,
       "grid_template_rows": null,
       "height": null,
       "justify_content": null,
       "justify_items": null,
       "left": null,
       "margin": null,
       "max_height": null,
       "max_width": null,
       "min_height": null,
       "min_width": null,
       "object_fit": null,
       "object_position": null,
       "order": null,
       "overflow": null,
       "overflow_x": null,
       "overflow_y": null,
       "padding": null,
       "right": null,
       "top": null,
       "visibility": null,
       "width": null
      }
     },
     "5f31a9581fe449859d31cd5b5b0795be": {
      "model_module": "@jupyter-widgets/controls",
      "model_module_version": "1.5.0",
      "model_name": "HTMLModel",
      "state": {
       "_dom_classes": [],
       "_model_module": "@jupyter-widgets/controls",
       "_model_module_version": "1.5.0",
       "_model_name": "HTMLModel",
       "_view_count": null,
       "_view_module": "@jupyter-widgets/controls",
       "_view_module_version": "1.5.0",
       "_view_name": "HTMLView",
       "description": "",
       "description_tooltip": null,
       "layout": "IPY_MODEL_b8aa1155e3ea41eeb966241f894a87df",
       "placeholder": "​",
       "style": "IPY_MODEL_fe4908dfca8946b382ffedf45ea99dee",
       "value": " 528M/528M [00:17&lt;00:00, 31.6MB/s]"
      }
     },
     "620bb05c346f4513a93b52dd388fb252": {
      "model_module": "@jupyter-widgets/base",
      "model_module_version": "1.2.0",
      "model_name": "LayoutModel",
      "state": {
       "_model_module": "@jupyter-widgets/base",
       "_model_module_version": "1.2.0",
       "_model_name": "LayoutModel",
       "_view_count": null,
       "_view_module": "@jupyter-widgets/base",
       "_view_module_version": "1.2.0",
       "_view_name": "LayoutView",
       "align_content": null,
       "align_items": null,
       "align_self": null,
       "border": null,
       "bottom": null,
       "display": null,
       "flex": null,
       "flex_flow": null,
       "grid_area": null,
       "grid_auto_columns": null,
       "grid_auto_flow": null,
       "grid_auto_rows": null,
       "grid_column": null,
       "grid_gap": null,
       "grid_row": null,
       "grid_template_areas": null,
       "grid_template_columns": null,
       "grid_template_rows": null,
       "height": null,
       "justify_content": null,
       "justify_items": null,
       "left": null,
       "margin": null,
       "max_height": null,
       "max_width": null,
       "min_height": null,
       "min_width": null,
       "object_fit": null,
       "object_position": null,
       "order": null,
       "overflow": null,
       "overflow_x": null,
       "overflow_y": null,
       "padding": null,
       "right": null,
       "top": null,
       "visibility": null,
       "width": null
      }
     },
     "62b310f30fd74e849197910e3778bd43": {
      "model_module": "@jupyter-widgets/controls",
      "model_module_version": "1.5.0",
      "model_name": "DescriptionStyleModel",
      "state": {
       "_model_module": "@jupyter-widgets/controls",
       "_model_module_version": "1.5.0",
       "_model_name": "DescriptionStyleModel",
       "_view_count": null,
       "_view_module": "@jupyter-widgets/base",
       "_view_module_version": "1.2.0",
       "_view_name": "StyleView",
       "description_width": ""
      }
     },
     "67c9e86510634d9c819383c0b3ffd511": {
      "model_module": "@jupyter-widgets/controls",
      "model_module_version": "1.5.0",
      "model_name": "ProgressStyleModel",
      "state": {
       "_model_module": "@jupyter-widgets/controls",
       "_model_module_version": "1.5.0",
       "_model_name": "ProgressStyleModel",
       "_view_count": null,
       "_view_module": "@jupyter-widgets/base",
       "_view_module_version": "1.2.0",
       "_view_name": "StyleView",
       "bar_color": null,
       "description_width": ""
      }
     },
     "6888203f33324fb78b14246f94fe9574": {
      "model_module": "@jupyter-widgets/controls",
      "model_module_version": "1.5.0",
      "model_name": "DescriptionStyleModel",
      "state": {
       "_model_module": "@jupyter-widgets/controls",
       "_model_module_version": "1.5.0",
       "_model_name": "DescriptionStyleModel",
       "_view_count": null,
       "_view_module": "@jupyter-widgets/base",
       "_view_module_version": "1.2.0",
       "_view_name": "StyleView",
       "description_width": ""
      }
     },
     "6b69a5a035014e40a59a3f1c85688b6b": {
      "model_module": "@jupyter-widgets/controls",
      "model_module_version": "1.5.0",
      "model_name": "HBoxModel",
      "state": {
       "_dom_classes": [],
       "_model_module": "@jupyter-widgets/controls",
       "_model_module_version": "1.5.0",
       "_model_name": "HBoxModel",
       "_view_count": null,
       "_view_module": "@jupyter-widgets/controls",
       "_view_module_version": "1.5.0",
       "_view_name": "HBoxView",
       "box_style": "",
       "children": [
        "IPY_MODEL_db1f8b0a62374533a343fcafca86aa1d",
        "IPY_MODEL_34280d2880f34c16903d1789fd88aed2",
        "IPY_MODEL_14936745e49c45dd8de964fe970592d0"
       ],
       "layout": "IPY_MODEL_620bb05c346f4513a93b52dd388fb252"
      }
     },
     "7090ca6191344f2887d1710d6008a836": {
      "model_module": "@jupyter-widgets/base",
      "model_module_version": "1.2.0",
      "model_name": "LayoutModel",
      "state": {
       "_model_module": "@jupyter-widgets/base",
       "_model_module_version": "1.2.0",
       "_model_name": "LayoutModel",
       "_view_count": null,
       "_view_module": "@jupyter-widgets/base",
       "_view_module_version": "1.2.0",
       "_view_name": "LayoutView",
       "align_content": null,
       "align_items": null,
       "align_self": null,
       "border": null,
       "bottom": null,
       "display": null,
       "flex": null,
       "flex_flow": null,
       "grid_area": null,
       "grid_auto_columns": null,
       "grid_auto_flow": null,
       "grid_auto_rows": null,
       "grid_column": null,
       "grid_gap": null,
       "grid_row": null,
       "grid_template_areas": null,
       "grid_template_columns": null,
       "grid_template_rows": null,
       "height": null,
       "justify_content": null,
       "justify_items": null,
       "left": null,
       "margin": null,
       "max_height": null,
       "max_width": null,
       "min_height": null,
       "min_width": null,
       "object_fit": null,
       "object_position": null,
       "order": null,
       "overflow": null,
       "overflow_x": null,
       "overflow_y": null,
       "padding": null,
       "right": null,
       "top": null,
       "visibility": null,
       "width": null
      }
     },
     "7318cff5101645d48efc33776ac8b314": {
      "model_module": "@jupyter-widgets/controls",
      "model_module_version": "1.5.0",
      "model_name": "HTMLModel",
      "state": {
       "_dom_classes": [],
       "_model_module": "@jupyter-widgets/controls",
       "_model_module_version": "1.5.0",
       "_model_name": "HTMLModel",
       "_view_count": null,
       "_view_module": "@jupyter-widgets/controls",
       "_view_module_version": "1.5.0",
       "_view_name": "HTMLView",
       "description": "",
       "description_tooltip": null,
       "layout": "IPY_MODEL_3d4ca2e30a5d4ad8a2ee4f9e1b103be3",
       "placeholder": "​",
       "style": "IPY_MODEL_29993d2c2ce54f45853bb2ce614b218c",
       "value": "100%"
      }
     },
     "7792cadc27ea4d768f67a9048fb47f60": {
      "model_module": "@jupyter-widgets/controls",
      "model_module_version": "1.5.0",
      "model_name": "FloatProgressModel",
      "state": {
       "_dom_classes": [],
       "_model_module": "@jupyter-widgets/controls",
       "_model_module_version": "1.5.0",
       "_model_name": "FloatProgressModel",
       "_view_count": null,
       "_view_module": "@jupyter-widgets/controls",
       "_view_module_version": "1.5.0",
       "_view_name": "ProgressView",
       "bar_style": "success",
       "description": "",
       "description_tooltip": null,
       "layout": "IPY_MODEL_b4eb31489e3a43d182078d7feb115fee",
       "max": 553433881.0,
       "min": 0.0,
       "orientation": "horizontal",
       "style": "IPY_MODEL_7b5ecd65ea4e45d89eed09264573d34a",
       "value": 553433881.0
      }
     },
     "7a3470fd3b7a46a08b5b39798e060a70": {
      "model_module": "@jupyter-widgets/controls",
      "model_module_version": "1.5.0",
      "model_name": "HTMLModel",
      "state": {
       "_dom_classes": [],
       "_model_module": "@jupyter-widgets/controls",
       "_model_module_version": "1.5.0",
       "_model_name": "HTMLModel",
       "_view_count": null,
       "_view_module": "@jupyter-widgets/controls",
       "_view_module_version": "1.5.0",
       "_view_name": "HTMLView",
       "description": "",
       "description_tooltip": null,
       "layout": "IPY_MODEL_7ac432ea918f4d4e8b192789c3ba088c",
       "placeholder": "​",
       "style": "IPY_MODEL_6888203f33324fb78b14246f94fe9574",
       "value": " 44.7M/44.7M [00:01&lt;00:00, 32.4MB/s]"
      }
     },
     "7ac432ea918f4d4e8b192789c3ba088c": {
      "model_module": "@jupyter-widgets/base",
      "model_module_version": "1.2.0",
      "model_name": "LayoutModel",
      "state": {
       "_model_module": "@jupyter-widgets/base",
       "_model_module_version": "1.2.0",
       "_model_name": "LayoutModel",
       "_view_count": null,
       "_view_module": "@jupyter-widgets/base",
       "_view_module_version": "1.2.0",
       "_view_name": "LayoutView",
       "align_content": null,
       "align_items": null,
       "align_self": null,
       "border": null,
       "bottom": null,
       "display": null,
       "flex": null,
       "flex_flow": null,
       "grid_area": null,
       "grid_auto_columns": null,
       "grid_auto_flow": null,
       "grid_auto_rows": null,
       "grid_column": null,
       "grid_gap": null,
       "grid_row": null,
       "grid_template_areas": null,
       "grid_template_columns": null,
       "grid_template_rows": null,
       "height": null,
       "justify_content": null,
       "justify_items": null,
       "left": null,
       "margin": null,
       "max_height": null,
       "max_width": null,
       "min_height": null,
       "min_width": null,
       "object_fit": null,
       "object_position": null,
       "order": null,
       "overflow": null,
       "overflow_x": null,
       "overflow_y": null,
       "padding": null,
       "right": null,
       "top": null,
       "visibility": null,
       "width": null
      }
     },
     "7b5ecd65ea4e45d89eed09264573d34a": {
      "model_module": "@jupyter-widgets/controls",
      "model_module_version": "1.5.0",
      "model_name": "ProgressStyleModel",
      "state": {
       "_model_module": "@jupyter-widgets/controls",
       "_model_module_version": "1.5.0",
       "_model_name": "ProgressStyleModel",
       "_view_count": null,
       "_view_module": "@jupyter-widgets/base",
       "_view_module_version": "1.2.0",
       "_view_name": "StyleView",
       "bar_color": null,
       "description_width": ""
      }
     },
     "80dceccc42834863a91336f02caa2e90": {
      "model_module": "@jupyter-widgets/controls",
      "model_module_version": "1.5.0",
      "model_name": "HTMLModel",
      "state": {
       "_dom_classes": [],
       "_model_module": "@jupyter-widgets/controls",
       "_model_module_version": "1.5.0",
       "_model_name": "HTMLModel",
       "_view_count": null,
       "_view_module": "@jupyter-widgets/controls",
       "_view_module_version": "1.5.0",
       "_view_name": "HTMLView",
       "description": "",
       "description_tooltip": null,
       "layout": "IPY_MODEL_a63f2f30a7fa470e92c5d33398b63213",
       "placeholder": "​",
       "style": "IPY_MODEL_053b8a6c09b047238ee2fef305f47218",
       "value": "100%"
      }
     },
     "8208874a48464349932dbcc46ce87508": {
      "model_module": "@jupyter-widgets/base",
      "model_module_version": "1.2.0",
      "model_name": "LayoutModel",
      "state": {
       "_model_module": "@jupyter-widgets/base",
       "_model_module_version": "1.2.0",
       "_model_name": "LayoutModel",
       "_view_count": null,
       "_view_module": "@jupyter-widgets/base",
       "_view_module_version": "1.2.0",
       "_view_name": "LayoutView",
       "align_content": null,
       "align_items": null,
       "align_self": null,
       "border": null,
       "bottom": null,
       "display": null,
       "flex": null,
       "flex_flow": null,
       "grid_area": null,
       "grid_auto_columns": null,
       "grid_auto_flow": null,
       "grid_auto_rows": null,
       "grid_column": null,
       "grid_gap": null,
       "grid_row": null,
       "grid_template_areas": null,
       "grid_template_columns": null,
       "grid_template_rows": null,
       "height": null,
       "justify_content": null,
       "justify_items": null,
       "left": null,
       "margin": null,
       "max_height": null,
       "max_width": null,
       "min_height": null,
       "min_width": null,
       "object_fit": null,
       "object_position": null,
       "order": null,
       "overflow": null,
       "overflow_x": null,
       "overflow_y": null,
       "padding": null,
       "right": null,
       "top": null,
       "visibility": null,
       "width": null
      }
     },
     "828da03cd9dd46b59f1c02fa7794980d": {
      "model_module": "@jupyter-widgets/controls",
      "model_module_version": "1.5.0",
      "model_name": "ProgressStyleModel",
      "state": {
       "_model_module": "@jupyter-widgets/controls",
       "_model_module_version": "1.5.0",
       "_model_name": "ProgressStyleModel",
       "_view_count": null,
       "_view_module": "@jupyter-widgets/base",
       "_view_module_version": "1.2.0",
       "_view_name": "StyleView",
       "bar_color": null,
       "description_width": ""
      }
     },
     "8931999e62d940349aacf4acf75fe93a": {
      "model_module": "@jupyter-widgets/base",
      "model_module_version": "1.2.0",
      "model_name": "LayoutModel",
      "state": {
       "_model_module": "@jupyter-widgets/base",
       "_model_module_version": "1.2.0",
       "_model_name": "LayoutModel",
       "_view_count": null,
       "_view_module": "@jupyter-widgets/base",
       "_view_module_version": "1.2.0",
       "_view_name": "LayoutView",
       "align_content": null,
       "align_items": null,
       "align_self": null,
       "border": null,
       "bottom": null,
       "display": null,
       "flex": null,
       "flex_flow": null,
       "grid_area": null,
       "grid_auto_columns": null,
       "grid_auto_flow": null,
       "grid_auto_rows": null,
       "grid_column": null,
       "grid_gap": null,
       "grid_row": null,
       "grid_template_areas": null,
       "grid_template_columns": null,
       "grid_template_rows": null,
       "height": null,
       "justify_content": null,
       "justify_items": null,
       "left": null,
       "margin": null,
       "max_height": null,
       "max_width": null,
       "min_height": null,
       "min_width": null,
       "object_fit": null,
       "object_position": null,
       "order": null,
       "overflow": null,
       "overflow_x": null,
       "overflow_y": null,
       "padding": null,
       "right": null,
       "top": null,
       "visibility": null,
       "width": null
      }
     },
     "8d9a376203254d5c83817ce591b0a300": {
      "model_module": "@jupyter-widgets/base",
      "model_module_version": "1.2.0",
      "model_name": "LayoutModel",
      "state": {
       "_model_module": "@jupyter-widgets/base",
       "_model_module_version": "1.2.0",
       "_model_name": "LayoutModel",
       "_view_count": null,
       "_view_module": "@jupyter-widgets/base",
       "_view_module_version": "1.2.0",
       "_view_name": "LayoutView",
       "align_content": null,
       "align_items": null,
       "align_self": null,
       "border": null,
       "bottom": null,
       "display": null,
       "flex": null,
       "flex_flow": null,
       "grid_area": null,
       "grid_auto_columns": null,
       "grid_auto_flow": null,
       "grid_auto_rows": null,
       "grid_column": null,
       "grid_gap": null,
       "grid_row": null,
       "grid_template_areas": null,
       "grid_template_columns": null,
       "grid_template_rows": null,
       "height": null,
       "justify_content": null,
       "justify_items": null,
       "left": null,
       "margin": null,
       "max_height": null,
       "max_width": null,
       "min_height": null,
       "min_width": null,
       "object_fit": null,
       "object_position": null,
       "order": null,
       "overflow": null,
       "overflow_x": null,
       "overflow_y": null,
       "padding": null,
       "right": null,
       "top": null,
       "visibility": null,
       "width": null
      }
     },
     "8f074f08269f4b148410fbb86fce943e": {
      "model_module": "@jupyter-widgets/controls",
      "model_module_version": "1.5.0",
      "model_name": "DescriptionStyleModel",
      "state": {
       "_model_module": "@jupyter-widgets/controls",
       "_model_module_version": "1.5.0",
       "_model_name": "DescriptionStyleModel",
       "_view_count": null,
       "_view_module": "@jupyter-widgets/base",
       "_view_module_version": "1.2.0",
       "_view_name": "StyleView",
       "description_width": ""
      }
     },
     "92e9968108304932a2031568533eab23": {
      "model_module": "@jupyter-widgets/controls",
      "model_module_version": "1.5.0",
      "model_name": "FloatProgressModel",
      "state": {
       "_dom_classes": [],
       "_model_module": "@jupyter-widgets/controls",
       "_model_module_version": "1.5.0",
       "_model_name": "FloatProgressModel",
       "_view_count": null,
       "_view_module": "@jupyter-widgets/controls",
       "_view_module_version": "1.5.0",
       "_view_name": "ProgressView",
       "bar_style": "success",
       "description": "",
       "description_tooltip": null,
       "layout": "IPY_MODEL_5e39fb0d425e442496baed99f2f0f985",
       "max": 108949747.0,
       "min": 0.0,
       "orientation": "horizontal",
       "style": "IPY_MODEL_44a137fbe2c6433094a610660315d7ee",
       "value": 108949747.0
      }
     },
     "9c782c35fff1419e8beff7480f54ac63": {
      "model_module": "@jupyter-widgets/controls",
      "model_module_version": "1.5.0",
      "model_name": "HTMLModel",
      "state": {
       "_dom_classes": [],
       "_model_module": "@jupyter-widgets/controls",
       "_model_module_version": "1.5.0",
       "_model_name": "HTMLModel",
       "_view_count": null,
       "_view_module": "@jupyter-widgets/controls",
       "_view_module_version": "1.5.0",
       "_view_name": "HTMLView",
       "description": "",
       "description_tooltip": null,
       "layout": "IPY_MODEL_0f2f34d7b676455a9c0f4cbbab2472ec",
       "placeholder": "​",
       "style": "IPY_MODEL_ec77421519d64aacacc42bff78cd8cb9",
       "value": " 104M/104M [00:04&lt;00:00, 32.5MB/s]"
      }
     },
     "a63f2f30a7fa470e92c5d33398b63213": {
      "model_module": "@jupyter-widgets/base",
      "model_module_version": "1.2.0",
      "model_name": "LayoutModel",
      "state": {
       "_model_module": "@jupyter-widgets/base",
       "_model_module_version": "1.2.0",
       "_model_name": "LayoutModel",
       "_view_count": null,
       "_view_module": "@jupyter-widgets/base",
       "_view_module_version": "1.2.0",
       "_view_name": "LayoutView",
       "align_content": null,
       "align_items": null,
       "align_self": null,
       "border": null,
       "bottom": null,
       "display": null,
       "flex": null,
       "flex_flow": null,
       "grid_area": null,
       "grid_auto_columns": null,
       "grid_auto_flow": null,
       "grid_auto_rows": null,
       "grid_column": null,
       "grid_gap": null,
       "grid_row": null,
       "grid_template_areas": null,
       "grid_template_columns": null,
       "grid_template_rows": null,
       "height": null,
       "justify_content": null,
       "justify_items": null,
       "left": null,
       "margin": null,
       "max_height": null,
       "max_width": null,
       "min_height": null,
       "min_width": null,
       "object_fit": null,
       "object_position": null,
       "order": null,
       "overflow": null,
       "overflow_x": null,
       "overflow_y": null,
       "padding": null,
       "right": null,
       "top": null,
       "visibility": null,
       "width": null
      }
     },
     "b4eb31489e3a43d182078d7feb115fee": {
      "model_module": "@jupyter-widgets/base",
      "model_module_version": "1.2.0",
      "model_name": "LayoutModel",
      "state": {
       "_model_module": "@jupyter-widgets/base",
       "_model_module_version": "1.2.0",
       "_model_name": "LayoutModel",
       "_view_count": null,
       "_view_module": "@jupyter-widgets/base",
       "_view_module_version": "1.2.0",
       "_view_name": "LayoutView",
       "align_content": null,
       "align_items": null,
       "align_self": null,
       "border": null,
       "bottom": null,
       "display": null,
       "flex": null,
       "flex_flow": null,
       "grid_area": null,
       "grid_auto_columns": null,
       "grid_auto_flow": null,
       "grid_auto_rows": null,
       "grid_column": null,
       "grid_gap": null,
       "grid_row": null,
       "grid_template_areas": null,
       "grid_template_columns": null,
       "grid_template_rows": null,
       "height": null,
       "justify_content": null,
       "justify_items": null,
       "left": null,
       "margin": null,
       "max_height": null,
       "max_width": null,
       "min_height": null,
       "min_width": null,
       "object_fit": null,
       "object_position": null,
       "order": null,
       "overflow": null,
       "overflow_x": null,
       "overflow_y": null,
       "padding": null,
       "right": null,
       "top": null,
       "visibility": null,
       "width": null
      }
     },
     "b8aa1155e3ea41eeb966241f894a87df": {
      "model_module": "@jupyter-widgets/base",
      "model_module_version": "1.2.0",
      "model_name": "LayoutModel",
      "state": {
       "_model_module": "@jupyter-widgets/base",
       "_model_module_version": "1.2.0",
       "_model_name": "LayoutModel",
       "_view_count": null,
       "_view_module": "@jupyter-widgets/base",
       "_view_module_version": "1.2.0",
       "_view_name": "LayoutView",
       "align_content": null,
       "align_items": null,
       "align_self": null,
       "border": null,
       "bottom": null,
       "display": null,
       "flex": null,
       "flex_flow": null,
       "grid_area": null,
       "grid_auto_columns": null,
       "grid_auto_flow": null,
       "grid_auto_rows": null,
       "grid_column": null,
       "grid_gap": null,
       "grid_row": null,
       "grid_template_areas": null,
       "grid_template_columns": null,
       "grid_template_rows": null,
       "height": null,
       "justify_content": null,
       "justify_items": null,
       "left": null,
       "margin": null,
       "max_height": null,
       "max_width": null,
       "min_height": null,
       "min_width": null,
       "object_fit": null,
       "object_position": null,
       "order": null,
       "overflow": null,
       "overflow_x": null,
       "overflow_y": null,
       "padding": null,
       "right": null,
       "top": null,
       "visibility": null,
       "width": null
      }
     },
     "bda2de975823407ba8ddb4318d87570e": {
      "model_module": "@jupyter-widgets/base",
      "model_module_version": "1.2.0",
      "model_name": "LayoutModel",
      "state": {
       "_model_module": "@jupyter-widgets/base",
       "_model_module_version": "1.2.0",
       "_model_name": "LayoutModel",
       "_view_count": null,
       "_view_module": "@jupyter-widgets/base",
       "_view_module_version": "1.2.0",
       "_view_name": "LayoutView",
       "align_content": null,
       "align_items": null,
       "align_self": null,
       "border": null,
       "bottom": null,
       "display": null,
       "flex": null,
       "flex_flow": null,
       "grid_area": null,
       "grid_auto_columns": null,
       "grid_auto_flow": null,
       "grid_auto_rows": null,
       "grid_column": null,
       "grid_gap": null,
       "grid_row": null,
       "grid_template_areas": null,
       "grid_template_columns": null,
       "grid_template_rows": null,
       "height": null,
       "justify_content": null,
       "justify_items": null,
       "left": null,
       "margin": null,
       "max_height": null,
       "max_width": null,
       "min_height": null,
       "min_width": null,
       "object_fit": null,
       "object_position": null,
       "order": null,
       "overflow": null,
       "overflow_x": null,
       "overflow_y": null,
       "padding": null,
       "right": null,
       "top": null,
       "visibility": null,
       "width": null
      }
     },
     "db1f8b0a62374533a343fcafca86aa1d": {
      "model_module": "@jupyter-widgets/controls",
      "model_module_version": "1.5.0",
      "model_name": "HTMLModel",
      "state": {
       "_dom_classes": [],
       "_model_module": "@jupyter-widgets/controls",
       "_model_module_version": "1.5.0",
       "_model_name": "HTMLModel",
       "_view_count": null,
       "_view_module": "@jupyter-widgets/controls",
       "_view_module_version": "1.5.0",
       "_view_name": "HTMLView",
       "description": "",
       "description_tooltip": null,
       "layout": "IPY_MODEL_547a6beeb4c14fb6878e437f48ef9ad5",
       "placeholder": "​",
       "style": "IPY_MODEL_8f074f08269f4b148410fbb86fce943e",
       "value": "100%"
      }
     },
     "e40cfb6353e04d3fba48f38c6f7d7e01": {
      "model_module": "@jupyter-widgets/base",
      "model_module_version": "1.2.0",
      "model_name": "LayoutModel",
      "state": {
       "_model_module": "@jupyter-widgets/base",
       "_model_module_version": "1.2.0",
       "_model_name": "LayoutModel",
       "_view_count": null,
       "_view_module": "@jupyter-widgets/base",
       "_view_module_version": "1.2.0",
       "_view_name": "LayoutView",
       "align_content": null,
       "align_items": null,
       "align_self": null,
       "border": null,
       "bottom": null,
       "display": null,
       "flex": null,
       "flex_flow": null,
       "grid_area": null,
       "grid_auto_columns": null,
       "grid_auto_flow": null,
       "grid_auto_rows": null,
       "grid_column": null,
       "grid_gap": null,
       "grid_row": null,
       "grid_template_areas": null,
       "grid_template_columns": null,
       "grid_template_rows": null,
       "height": null,
       "justify_content": null,
       "justify_items": null,
       "left": null,
       "margin": null,
       "max_height": null,
       "max_width": null,
       "min_height": null,
       "min_width": null,
       "object_fit": null,
       "object_position": null,
       "order": null,
       "overflow": null,
       "overflow_x": null,
       "overflow_y": null,
       "padding": null,
       "right": null,
       "top": null,
       "visibility": null,
       "width": null
      }
     },
     "ec77421519d64aacacc42bff78cd8cb9": {
      "model_module": "@jupyter-widgets/controls",
      "model_module_version": "1.5.0",
      "model_name": "DescriptionStyleModel",
      "state": {
       "_model_module": "@jupyter-widgets/controls",
       "_model_module_version": "1.5.0",
       "_model_name": "DescriptionStyleModel",
       "_view_count": null,
       "_view_module": "@jupyter-widgets/base",
       "_view_module_version": "1.2.0",
       "_view_name": "StyleView",
       "description_width": ""
      }
     },
     "ec9940fead414164846fe1f3615ce0a4": {
      "model_module": "@jupyter-widgets/controls",
      "model_module_version": "1.5.0",
      "model_name": "HTMLModel",
      "state": {
       "_dom_classes": [],
       "_model_module": "@jupyter-widgets/controls",
       "_model_module_version": "1.5.0",
       "_model_name": "HTMLModel",
       "_view_count": null,
       "_view_module": "@jupyter-widgets/controls",
       "_view_module_version": "1.5.0",
       "_view_name": "HTMLView",
       "description": "",
       "description_tooltip": null,
       "layout": "IPY_MODEL_8931999e62d940349aacf4acf75fe93a",
       "placeholder": "​",
       "style": "IPY_MODEL_f311da8225fb453591aceca1014069e2",
       "value": "100%"
      }
     },
     "f311da8225fb453591aceca1014069e2": {
      "model_module": "@jupyter-widgets/controls",
      "model_module_version": "1.5.0",
      "model_name": "DescriptionStyleModel",
      "state": {
       "_model_module": "@jupyter-widgets/controls",
       "_model_module_version": "1.5.0",
       "_model_name": "DescriptionStyleModel",
       "_view_count": null,
       "_view_module": "@jupyter-widgets/base",
       "_view_module_version": "1.2.0",
       "_view_name": "StyleView",
       "description_width": ""
      }
     },
     "fe4908dfca8946b382ffedf45ea99dee": {
      "model_module": "@jupyter-widgets/controls",
      "model_module_version": "1.5.0",
      "model_name": "DescriptionStyleModel",
      "state": {
       "_model_module": "@jupyter-widgets/controls",
       "_model_module_version": "1.5.0",
       "_model_name": "DescriptionStyleModel",
       "_view_count": null,
       "_view_module": "@jupyter-widgets/base",
       "_view_module_version": "1.2.0",
       "_view_name": "StyleView",
       "description_width": ""
      }
     }
    },
    "version_major": 2,
    "version_minor": 0
   }
  }
 },
 "nbformat": 4,
 "nbformat_minor": 5
}
